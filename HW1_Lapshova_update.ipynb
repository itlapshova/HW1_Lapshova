{
 "cells": [
  {
   "cell_type": "markdown",
   "metadata": {},
   "source": [
    "# Домашнее задание №1"
   ]
  },
  {
   "cell_type": "markdown",
   "metadata": {},
   "source": [
    "### Пункт 1. Загрузка данных из xlsx файлов в Python и в базу данных SQL"
   ]
  },
  {
   "cell_type": "markdown",
   "metadata": {},
   "source": [
    "#### В ячейку ниже впишите в двойных кавычках (\" \"):\n",
    "* в переменную **_my__path_** путь вашей папки, в которой расположены папки *applications* и *contracts* (в путь включается название самой папки, в текущем примере папка со всеми данными называется IT)\n",
    "* в переменную **_mydatabase_** название созданной вами базы данных\n",
    "* в переменную **_mypassword_** ваш пользовательский пароль для работы с MySQL\n",
    "* в переменную **_myuser_** ваше имя пользователя MySQL (по умолчанию *root*)"
   ]
  },
  {
   "cell_type": "code",
   "execution_count": 1,
   "metadata": {},
   "outputs": [],
   "source": [
    "my_path = \"C:/Users/plaps/Desktop/IT\"\n",
    "mydatabase = \"loan\"\n",
    "mypassword = \"MySQL2018\"\n",
    "myuser = \"root\""
   ]
  },
  {
   "cell_type": "code",
   "execution_count": 2,
   "metadata": {},
   "outputs": [],
   "source": [
    "import pandas as pd\n",
    "import numpy as np\n",
    "from os import listdir\n",
    "from os.path import isfile, join\n",
    "from datetime import datetime\n",
    "from dateutil.parser import parse\n",
    "from IPython.display import display, HTML\n",
    "from sklearn import preprocessing\n",
    "import mysql\n",
    "import mysql.connector\n",
    "from mysql.connector import Error"
   ]
  },
  {
   "cell_type": "code",
   "execution_count": 3,
   "metadata": {},
   "outputs": [],
   "source": [
    "# создаем список файлов в каждой папке\n",
    "applications = [f for f in listdir(my_path+'/applications') if isfile(join(my_path+'/applications', f))] \n",
    "contracts = [f for f in listdir(my_path+'/contracts') if isfile(join(my_path+'/contracts', f))]"
   ]
  },
  {
   "cell_type": "code",
   "execution_count": 4,
   "metadata": {},
   "outputs": [],
   "source": [
    "def initial_table(file_name, folder_type):\n",
    "    #преобразует исходную таблицу в зависимости от того, по заявкам она или по контрактам в вид, удобный для дальнейшей работы\n",
    "    if folder_type == 'applications':\n",
    "        df1 = pd.read_excel(my_path+\"/\"+folder_type+\"/\"+file_name).reset_index()\n",
    "        df1.columns = range(df1.shape[1])\n",
    "        df1 = df1.drop([9,10,11]).reset_index(drop = True)\n",
    "    else:\n",
    "        df1 = pd.read_excel(my_path+\"/\"+folder_type+\"/\"+file_name)\n",
    "        df1.columns = range(df1.shape[1])\n",
    "    if df1.shape[0] == 16:\n",
    "        df1 = df1.append(pd.Series(np.full(df1.shape[1], np.nan), index = df1.columns), ignore_index = True)\n",
    "    return df1"
   ]
  },
  {
   "cell_type": "code",
   "execution_count": 5,
   "metadata": {},
   "outputs": [],
   "source": [
    "def new_col_names_and_data_col_index (df1):\n",
    "    #из таблицы собирается полный набор наименований признаков на базе предпосылки о том, что такие наименования встречаются\n",
    "    #через строчку (итерируемся по списку строк с шагом 2)\n",
    "    #для всех найденных имен собираются их индексы в первоначальной анкете (по столбцам, для каждой строки из списка)\n",
    "    #creating list of columns names \n",
    "    row_ind = range(1,df1.shape[0],2)\n",
    "    col_names = [] \n",
    "    col_ind = []\n",
    "    for i in row_ind:\n",
    "        ls = df1.iloc[i].tolist()\n",
    "        ls_clean = [x for x in ls if str(x) !='nan' and str(x) != 'NaT' ]\n",
    "        col_names.extend(ls_clean)\n",
    "        this_row_col_ind = []\n",
    "        for j in ls_clean:\n",
    "            this_row_col_ind.append(ls.index(j))\n",
    "        col_ind.append(this_row_col_ind)\n",
    "    col_names.append('Date')\n",
    "    \n",
    "    # renaming duplicates with progressing numbers\n",
    "    from collections import Counter\n",
    "    counts = Counter(col_names)\n",
    "    for s, num in counts.items():\n",
    "        if num > 1:\n",
    "            for i in range (1,num +1):\n",
    "                            col_names[col_names.index(s)] = s + str(i)\n",
    "    return col_names, col_ind"
   ]
  },
  {
   "cell_type": "code",
   "execution_count": 6,
   "metadata": {},
   "outputs": [],
   "source": [
    "#отдельно создаём под каждый тип данных (заявки и контракты) пустой датафрейм, к которому с помощью функции внизу добавляем строки\n",
    "appl_inf = pd.DataFrame(columns = new_col_names_and_data_col_index(initial_table(applications[0],'applications'))[0])\n",
    "contr_inf = pd.DataFrame(columns = new_col_names_and_data_col_index(initial_table(contracts[0],'contracts'))[0])\n",
    "\n",
    "def new_rows_append (df0,df1, inf):\n",
    "    row_ind = range(1,df0.shape[0],2)\n",
    "    col_names,col_ind = new_col_names_and_data_col_index(df0)\n",
    "    dates_columns = []\n",
    "    for i in col_names:\n",
    "        if \"Date\" in i:\n",
    "            dates_columns.append(col_names.index(i))\n",
    "    new_row = []\n",
    "    for i in range(0,len(row_ind)):\n",
    "        row_n = df1.iloc[row_ind[i]+1][col_ind[i]]\n",
    "        new_row.extend(row_n)  \n",
    "    # добавляем в конце дату формы,т.к. её расположение отличается от стандартного расположения остальных данных.  \n",
    "    new_row.append(df1.iloc[0][df1.shape[1]-1])\n",
    "    \n",
    "    # Во избежании ошибок с форматом дат, преобразуем также все данные из строк с датами в формате строк в даты, \n",
    "    # проверяем год на лимит питона\n",
    "    for i in range(0,len(dates_columns)):\n",
    "        if type(new_row[dates_columns[i]]) == str:\n",
    "            new_row[dates_columns[i]] = datetime.strptime(new_row[dates_columns[i]], '%m.%d.%Y')\n",
    "        if new_row[dates_columns[i]].year > 2300:\n",
    "            new_row[dates_columns[i]] = float('nan')\n",
    "            \n",
    "    inf = inf.append(pd.Series(new_row, index = inf.columns), ignore_index = True)\n",
    "    return inf"
   ]
  },
  {
   "cell_type": "markdown",
   "metadata": {},
   "source": [
    "#### Получаем таблицу с заявками"
   ]
  },
  {
   "cell_type": "code",
   "execution_count": 7,
   "metadata": {},
   "outputs": [],
   "source": [
    "for i in applications:\n",
    "    df1 = initial_table(i,'applications')\n",
    "    df0 = initial_table(applications[0],'applications')\n",
    "    appl_inf = new_rows_append (df0,df1, appl_inf)\n",
    "cols_appl = list (appl_inf)\n",
    "cols_appl.insert(0, cols_appl.pop(cols_appl.index('Identity Number')))\n",
    "appl_inf = appl_inf.loc[:,cols_appl]\n",
    "appl_inf = appl_inf.where((pd.notnull(appl_inf)), None)\n",
    "appl_inf_no_nan = appl_inf.dropna(axis=1, how='all')\n",
    "appl_inf_no_nan = appl_inf_no_nan.rename(index=str, columns={\"Date\": \"Application_date\"})"
   ]
  },
  {
   "cell_type": "markdown",
   "metadata": {},
   "source": [
    "#### Удалим необязательные поля *Name* и *Date appointed*, посмотрим, как выглядит таблица, которая отправится в базу данных"
   ]
  },
  {
   "cell_type": "code",
   "execution_count": 8,
   "metadata": {},
   "outputs": [
    {
     "name": "stdout",
     "output_type": "stream",
     "text": [
      "['Identity Number', 'Name', 'Date of Birth', 'Gender', 'Employed By', 'Date appointed', 'Issue Date', 'Education', 'Children', 'Family', 'Marital Status', 'Position', 'Income', 'Income Type', 'Housing', 'House ownership', 'Age of Car (if owned)', 'Application_date']\n"
     ]
    }
   ],
   "source": [
    "print(list(appl_inf_no_nan)) #посмотрим на оставшиеся поля и удалим ненужные "
   ]
  },
  {
   "cell_type": "code",
   "execution_count": 9,
   "metadata": {},
   "outputs": [
    {
     "data": {
      "text/html": [
       "<div>\n",
       "<style scoped>\n",
       "    .dataframe tbody tr th:only-of-type {\n",
       "        vertical-align: middle;\n",
       "    }\n",
       "\n",
       "    .dataframe tbody tr th {\n",
       "        vertical-align: top;\n",
       "    }\n",
       "\n",
       "    .dataframe thead th {\n",
       "        text-align: right;\n",
       "    }\n",
       "</style>\n",
       "<table border=\"1\" class=\"dataframe\">\n",
       "  <thead>\n",
       "    <tr style=\"text-align: right;\">\n",
       "      <th></th>\n",
       "      <th>Identity Number</th>\n",
       "      <th>Date of Birth</th>\n",
       "      <th>Gender</th>\n",
       "      <th>Employed By</th>\n",
       "      <th>Issue Date</th>\n",
       "      <th>Education</th>\n",
       "      <th>Children</th>\n",
       "      <th>Family</th>\n",
       "      <th>Marital Status</th>\n",
       "      <th>Position</th>\n",
       "      <th>Income</th>\n",
       "      <th>Income Type</th>\n",
       "      <th>Housing</th>\n",
       "      <th>House ownership</th>\n",
       "      <th>Age of Car (if owned)</th>\n",
       "      <th>Application_date</th>\n",
       "    </tr>\n",
       "  </thead>\n",
       "  <tbody>\n",
       "    <tr>\n",
       "      <th>0</th>\n",
       "      <td>100003</td>\n",
       "      <td>1968-07-22</td>\n",
       "      <td>Female</td>\n",
       "      <td>School</td>\n",
       "      <td>2013-08-29</td>\n",
       "      <td>Higher education</td>\n",
       "      <td>0</td>\n",
       "      <td>2</td>\n",
       "      <td>Married</td>\n",
       "      <td>Core staff</td>\n",
       "      <td>270000</td>\n",
       "      <td>State servant</td>\n",
       "      <td>House / apartment</td>\n",
       "      <td>N</td>\n",
       "      <td>None</td>\n",
       "      <td>2014-06-16</td>\n",
       "    </tr>\n",
       "    <tr>\n",
       "      <th>1</th>\n",
       "      <td>100004</td>\n",
       "      <td>1964-10-11</td>\n",
       "      <td>Male</td>\n",
       "      <td>Government</td>\n",
       "      <td>2010-01-28</td>\n",
       "      <td>Secondary / secondary special</td>\n",
       "      <td>0</td>\n",
       "      <td>1</td>\n",
       "      <td>Single / not married</td>\n",
       "      <td>Laborers</td>\n",
       "      <td>67500</td>\n",
       "      <td>Working</td>\n",
       "      <td>House / apartment</td>\n",
       "      <td>Y</td>\n",
       "      <td>26</td>\n",
       "      <td>2017-02-01</td>\n",
       "    </tr>\n",
       "    <tr>\n",
       "      <th>2</th>\n",
       "      <td>100006</td>\n",
       "      <td>1964-08-29</td>\n",
       "      <td>Female</td>\n",
       "      <td>Business Entity Type 3</td>\n",
       "      <td>2010-08-01</td>\n",
       "      <td>Secondary / secondary special</td>\n",
       "      <td>0</td>\n",
       "      <td>2</td>\n",
       "      <td>Civil marriage</td>\n",
       "      <td>Laborers</td>\n",
       "      <td>135000</td>\n",
       "      <td>Working</td>\n",
       "      <td>House / apartment</td>\n",
       "      <td>Y</td>\n",
       "      <td>None</td>\n",
       "      <td>2016-10-09</td>\n",
       "    </tr>\n",
       "    <tr>\n",
       "      <th>3</th>\n",
       "      <td>100007</td>\n",
       "      <td>1963-09-02</td>\n",
       "      <td>Male</td>\n",
       "      <td>Religion</td>\n",
       "      <td>2008-03-18</td>\n",
       "      <td>Secondary / secondary special</td>\n",
       "      <td>0</td>\n",
       "      <td>1</td>\n",
       "      <td>Single / not married</td>\n",
       "      <td>Core staff</td>\n",
       "      <td>121500</td>\n",
       "      <td>Working</td>\n",
       "      <td>House / apartment</td>\n",
       "      <td>Y</td>\n",
       "      <td>None</td>\n",
       "      <td>2017-05-09</td>\n",
       "    </tr>\n",
       "    <tr>\n",
       "      <th>4</th>\n",
       "      <td>100008</td>\n",
       "      <td>1968-10-27</td>\n",
       "      <td>Male</td>\n",
       "      <td>Other</td>\n",
       "      <td>2013-11-24</td>\n",
       "      <td>Secondary / secondary special</td>\n",
       "      <td>0</td>\n",
       "      <td>2</td>\n",
       "      <td>Married</td>\n",
       "      <td>Laborers</td>\n",
       "      <td>99000</td>\n",
       "      <td>State servant</td>\n",
       "      <td>House / apartment</td>\n",
       "      <td>Y</td>\n",
       "      <td>None</td>\n",
       "      <td>2015-03-16</td>\n",
       "    </tr>\n",
       "  </tbody>\n",
       "</table>\n",
       "</div>"
      ],
      "text/plain": [
       "  Identity Number Date of Birth  Gender             Employed By Issue Date  \\\n",
       "0          100003    1968-07-22  Female                  School 2013-08-29   \n",
       "1          100004    1964-10-11    Male              Government 2010-01-28   \n",
       "2          100006    1964-08-29  Female  Business Entity Type 3 2010-08-01   \n",
       "3          100007    1963-09-02    Male                Religion 2008-03-18   \n",
       "4          100008    1968-10-27    Male                   Other 2013-11-24   \n",
       "\n",
       "                       Education Children Family        Marital Status  \\\n",
       "0               Higher education        0      2               Married   \n",
       "1  Secondary / secondary special        0      1  Single / not married   \n",
       "2  Secondary / secondary special        0      2        Civil marriage   \n",
       "3  Secondary / secondary special        0      1  Single / not married   \n",
       "4  Secondary / secondary special        0      2               Married   \n",
       "\n",
       "     Position  Income    Income Type            Housing House ownership  \\\n",
       "0  Core staff  270000  State servant  House / apartment               N   \n",
       "1    Laborers   67500        Working  House / apartment               Y   \n",
       "2    Laborers  135000        Working  House / apartment               Y   \n",
       "3  Core staff  121500        Working  House / apartment               Y   \n",
       "4    Laborers   99000  State servant  House / apartment               Y   \n",
       "\n",
       "  Age of Car (if owned) Application_date  \n",
       "0                  None       2014-06-16  \n",
       "1                    26       2017-02-01  \n",
       "2                  None       2016-10-09  \n",
       "3                  None       2017-05-09  \n",
       "4                  None       2015-03-16  "
      ]
     },
     "execution_count": 9,
     "metadata": {},
     "output_type": "execute_result"
    }
   ],
   "source": [
    "appl_inf_no_nan = appl_inf_no_nan.drop(['Name', 'Date appointed'], axis = 1)\n",
    "appl_inf_no_nan.head()"
   ]
  },
  {
   "cell_type": "markdown",
   "metadata": {},
   "source": [
    "#### Получаем таблицу с контрактами"
   ]
  },
  {
   "cell_type": "code",
   "execution_count": 10,
   "metadata": {},
   "outputs": [],
   "source": [
    "for i in contracts:\n",
    "    df1 = initial_table(i,'contracts')\n",
    "    df0 = initial_table(contracts[0],'contracts')\n",
    "    contr_inf = new_rows_append (df0,df1, contr_inf)\n",
    "cols_contr = list (contr_inf)\n",
    "cols_contr.insert(0, cols_contr.pop(cols_contr.index('Identity Number')))\n",
    "contr_inf = contr_inf.loc[:,cols_contr]\n",
    "contr_inf = contr_inf.where((pd.notnull(contr_inf)), None)\n",
    "contr_inf_no_nan = contr_inf.dropna(axis=1, how='all')\n",
    "contr_inf_no_nan = contr_inf_no_nan.rename(index=str, columns={\"Date\": \"Contract_date\"})"
   ]
  },
  {
   "cell_type": "markdown",
   "metadata": {},
   "source": [
    "#### Удалим необязательное поле *Borrower*, посмотрим, как выглядит таблица, которая отправится в базу данных"
   ]
  },
  {
   "cell_type": "code",
   "execution_count": 11,
   "metadata": {},
   "outputs": [
    {
     "name": "stdout",
     "output_type": "stream",
     "text": [
      "['Identity Number', 'Borrower', 'Contract Number', 'Amount', 'Type', 'Term (month)', 'Annuity', 'Contract_date']\n"
     ]
    }
   ],
   "source": [
    "print(list(contr_inf_no_nan))"
   ]
  },
  {
   "cell_type": "code",
   "execution_count": 12,
   "metadata": {},
   "outputs": [
    {
     "data": {
      "text/html": [
       "<div>\n",
       "<style scoped>\n",
       "    .dataframe tbody tr th:only-of-type {\n",
       "        vertical-align: middle;\n",
       "    }\n",
       "\n",
       "    .dataframe tbody tr th {\n",
       "        vertical-align: top;\n",
       "    }\n",
       "\n",
       "    .dataframe thead th {\n",
       "        text-align: right;\n",
       "    }\n",
       "</style>\n",
       "<table border=\"1\" class=\"dataframe\">\n",
       "  <thead>\n",
       "    <tr style=\"text-align: right;\">\n",
       "      <th></th>\n",
       "      <th>Identity Number</th>\n",
       "      <th>Contract Number</th>\n",
       "      <th>Amount</th>\n",
       "      <th>Type</th>\n",
       "      <th>Term (month)</th>\n",
       "      <th>Annuity</th>\n",
       "      <th>Contract_date</th>\n",
       "    </tr>\n",
       "  </thead>\n",
       "  <tbody>\n",
       "    <tr>\n",
       "      <th>0</th>\n",
       "      <td>100009</td>\n",
       "      <td>100022</td>\n",
       "      <td>1560726</td>\n",
       "      <td>Cash loans</td>\n",
       "      <td>41</td>\n",
       "      <td>41301</td>\n",
       "      <td>2015-02-11</td>\n",
       "    </tr>\n",
       "    <tr>\n",
       "      <th>1</th>\n",
       "      <td>100047</td>\n",
       "      <td>100052</td>\n",
       "      <td>1193580</td>\n",
       "      <td>Cash loans</td>\n",
       "      <td>37</td>\n",
       "      <td>35028</td>\n",
       "      <td>2016-08-30</td>\n",
       "    </tr>\n",
       "    <tr>\n",
       "      <th>2</th>\n",
       "      <td>100025</td>\n",
       "      <td>100068</td>\n",
       "      <td>1.13257e+06</td>\n",
       "      <td>Cash loans</td>\n",
       "      <td>33</td>\n",
       "      <td>37561.5</td>\n",
       "      <td>2018-12-30</td>\n",
       "    </tr>\n",
       "    <tr>\n",
       "      <th>3</th>\n",
       "      <td>100064</td>\n",
       "      <td>100113</td>\n",
       "      <td>298728</td>\n",
       "      <td>Cash loans</td>\n",
       "      <td>22</td>\n",
       "      <td>15381</td>\n",
       "      <td>2018-02-19</td>\n",
       "    </tr>\n",
       "    <tr>\n",
       "      <th>4</th>\n",
       "      <td>100023</td>\n",
       "      <td>100122</td>\n",
       "      <td>544491</td>\n",
       "      <td>Cash loans</td>\n",
       "      <td>34</td>\n",
       "      <td>17563.5</td>\n",
       "      <td>2016-07-31</td>\n",
       "    </tr>\n",
       "  </tbody>\n",
       "</table>\n",
       "</div>"
      ],
      "text/plain": [
       "  Identity Number Contract Number       Amount        Type Term (month)  \\\n",
       "0          100009          100022      1560726  Cash loans           41   \n",
       "1          100047          100052      1193580  Cash loans           37   \n",
       "2          100025          100068  1.13257e+06  Cash loans           33   \n",
       "3          100064          100113       298728  Cash loans           22   \n",
       "4          100023          100122       544491  Cash loans           34   \n",
       "\n",
       "   Annuity Contract_date  \n",
       "0    41301    2015-02-11  \n",
       "1    35028    2016-08-30  \n",
       "2  37561.5    2018-12-30  \n",
       "3    15381    2018-02-19  \n",
       "4  17563.5    2016-07-31  "
      ]
     },
     "execution_count": 12,
     "metadata": {},
     "output_type": "execute_result"
    }
   ],
   "source": [
    "contr_inf_no_nan = contr_inf_no_nan.drop(['Borrower'], axis = 1)\n",
    "contr_inf_no_nan.head()"
   ]
  },
  {
   "cell_type": "markdown",
   "metadata": {},
   "source": [
    "#### Создание и заполнение таблиц в базе данных SQL"
   ]
  },
  {
   "cell_type": "code",
   "execution_count": 13,
   "metadata": {},
   "outputs": [],
   "source": [
    "# подключаемся к базе данных\n",
    "database = mysql.connector.connect(user=myuser, password=mypassword,\n",
    "                              host='localhost',\n",
    "                              database=mydatabase,auth_plugin='mysql_native_password')\n",
    "mycursor = database.cursor(buffered=True)"
   ]
  },
  {
   "cell_type": "code",
   "execution_count": 14,
   "metadata": {},
   "outputs": [],
   "source": [
    "# создаем таблицу заявок (заданный порядок переменных важен, менять нельзя)\n",
    "mycursor.execute(\n",
    "\"\"\"CREATE TABLE applications (id_number INT,date_of_birth DATE, gender VARCHAR(10), employed_by VARCHAR(50), issue_date DATE, \n",
    "education VARCHAR (50), children INT, family INT, marital_status VARCHAR (50), position VARCHAR(50), income INT, \n",
    "income_type VARCHAR(50), housing VARCHAR (50), house_ownership VARCHAR (50), age_of_car INT, application_date DATE, \n",
    "PRIMARY KEY (id_number)  )\"\"\")"
   ]
  },
  {
   "cell_type": "code",
   "execution_count": 15,
   "metadata": {
    "scrolled": true
   },
   "outputs": [],
   "source": [
    "# заполняем значениями таблицу applications\n",
    "sql = \"INSERT INTO applications VALUES (%s, %s, %s, %s, %s, %s, %s, %s, %s, %s, %s, %s, %s, %s, %s, %s)\"\n",
    "for i in range(0, appl_inf_no_nan.shape[0]):\n",
    "    val = tuple(appl_inf_no_nan.iloc[i])\n",
    "    mycursor.execute(sql, val)\n",
    "\n",
    "    database.commit()"
   ]
  },
  {
   "cell_type": "code",
   "execution_count": 16,
   "metadata": {},
   "outputs": [],
   "source": [
    "# создаем таблицу контрактов (заданный порядок переменных важен, менять нельзя)\n",
    "mycursor.execute(\n",
    "\"\"\"CREATE TABLE contracts (id_number INT, contract_number INT, amount INT, type VARCHAR(50), term_month INT, annuity INT, \n",
    "contract_date DATE, PRIMARY KEY (id_number)  )\"\"\")"
   ]
  },
  {
   "cell_type": "code",
   "execution_count": 17,
   "metadata": {},
   "outputs": [],
   "source": [
    "# заполняем значениями таблицу contracts\n",
    "sql = \"INSERT INTO contracts VALUES (%s, %s, %s, %s, %s, %s, %s)\"\n",
    "for i in range(0, contr_inf_no_nan.shape[0]):\n",
    "    val = tuple(contr_inf_no_nan.iloc[i])\n",
    "    mycursor.execute(sql, val)\n",
    "\n",
    "    database.commit()"
   ]
  },
  {
   "cell_type": "markdown",
   "metadata": {},
   "source": [
    "### Пункт 2. Проверка на корректность значений, исправление некоторых ошибок"
   ]
  },
  {
   "cell_type": "code",
   "execution_count": 18,
   "metadata": {},
   "outputs": [],
   "source": [
    "# позволяет посмотреть для всех текстовых переменных частоту появлений каждой категории,\n",
    "# для каждой переменной формата integer или дата посмотреть на максимальное, минимальное значение и количество пропусков\n",
    "def value_check (table, data_type):\n",
    "    mycursor.execute(\"\"\"SELECT COLUMN_NAME FROM INFORMATION_SCHEMA.COLUMNS\n",
    "    WHERE DATA_TYPE = '{0}' AND TABLE_SCHEMA = '{1}'\n",
    "    AND TABLE_NAME = '{2}'\"\"\".format(data_type, mydatabase, table))\n",
    "    data_type_col = pd.DataFrame(mycursor.fetchall())[0].tolist()\n",
    "    for i in range(0,len(data_type_col)):\n",
    "        if data_type == 'varchar':\n",
    "            mycursor.execute(\"\"\"SELECT {0}, COUNT({0}) AS count FROM {1} \n",
    "            WHERE {0} IS NOT NULL GROUP BY {0} UNION ALL SELECT {0}, \n",
    "            COUNT(CASE WHEN {0} IS NULL THEN 1 END) AS count FROM {1} \n",
    "            WHERE {0} IS NULL GROUP BY {0}\"\"\".format(data_type_col[i], table))\n",
    "        if data_type == 'int' or data_type == 'date':\n",
    "            mycursor.execute(\"\"\"SELECT MAX({0}), MIN({0}), \n",
    "            COUNT(CASE WHEN {0} IS NULL THEN 1 END) AS null_count FROM {1}\"\"\".format(data_type_col[i], table))\n",
    "        data = pd.DataFrame(mycursor.fetchall())\n",
    "        data.columns = [x[0] for x in mycursor.description]\n",
    "        print (\"Проверка обозначений по полю \"+data_type_col[i])\n",
    "        display(data)\n",
    "        print(\"- \"*30)\n",
    "        print()"
   ]
  },
  {
   "cell_type": "code",
   "execution_count": 19,
   "metadata": {},
   "outputs": [],
   "source": [
    "# проверяет, есть ли в числовых данных отрицательные значения (в нашем случае для всех полей такое значение некорректно) \n",
    "# и, если есть, заменяет все отрицательные числовые значения на NULL\n",
    "def int_negative_value_update (table):\n",
    "    mycursor.execute(\"\"\"SELECT COLUMN_NAME FROM INFORMATION_SCHEMA.COLUMNS\n",
    "    WHERE DATA_TYPE = 'int' AND TABLE_SCHEMA = '{0}'\n",
    "    AND TABLE_NAME = '{1}'\"\"\".format(mydatabase, table))\n",
    "    data_type_col = pd.DataFrame(mycursor.fetchall())[0].tolist()\n",
    "    for i in range(0,len(data_type_col)):\n",
    "        mycursor.execute(\"\"\"SELECT COUNT(CASE WHEN {0}<0 THEN 1 END) FROM {1}\"\"\".format(data_type_col[i], table)) \n",
    "        data = mycursor.fetchall()[0][0]\n",
    "        if data != 0:\n",
    "            mycursor.execute(\"\"\"UPDATE {0} SET {1}= NULL WHERE {1}<0\"\"\".format(table, data_type_col[i]))\n",
    "            database.commit()\n",
    "            print (\"Отрицательные значения найдены для поля \"+ data_type_col[i] + \", некорректные значения заменены на None\")\n",
    "        else:\n",
    "            print (\"Отрицательные значения для поля \"+ data_type_col[i] + \" не найдены, ошибок нет\")"
   ]
  },
  {
   "cell_type": "code",
   "execution_count": 20,
   "metadata": {},
   "outputs": [],
   "source": [
    "# поиск и исправление ошибок в датах\n",
    "def date_value_update (table):\n",
    "    mycursor.execute(\"\"\"SELECT COLUMN_NAME FROM INFORMATION_SCHEMA.COLUMNS\n",
    "    WHERE DATA_TYPE = 'date' AND TABLE_SCHEMA = '{0}'\n",
    "    AND TABLE_NAME = '{1}'\"\"\".format(mydatabase, table))\n",
    "    data_type_col = pd.DataFrame(mycursor.fetchall())[0].tolist()\n",
    "    #проверка на даты из будущего\n",
    "    for i in range(0,len(data_type_col)):\n",
    "        mycursor.execute(\"\"\"SELECT COUNT(CASE WHEN {0}>'2018-12-31' THEN 1 END) FROM {1}\"\"\".format(data_type_col[i], table)) \n",
    "        data = mycursor.fetchall()[0][0]\n",
    "        if data != 0:\n",
    "            mycursor.execute(\"\"\"UPDATE {0} SET {1}= NULL WHERE {1}>'2018-12-31'\"\"\".format(table, data_type_col[i]))\n",
    "            database.commit()\n",
    "            print (\"Среди дат по полю \"+ data_type_col[i] + \" найдены будущие значения, некорректные значения заменены на None\")\n",
    "        else:\n",
    "            print (\"Среди дат по полю \"+ data_type_col[i] + \" некорректные значения не найдены\")\n",
    "    print(\"- \"*30)\n",
    "    if table == 'applications':\n",
    "        #создание поля возраста\n",
    "        mycursor.execute(\"\"\"ALTER TABLE applications ADD age INT\"\"\")\n",
    "        database.commit()\n",
    "        mycursor.execute(\"\"\"UPDATE applications SET age = IF (MONTH(CURRENT_TIMESTAMP) <> MONTH(date_of_birth),\n",
    "        YEAR(CURDATE())- YEAR(date_of_birth) - (MONTH(CURRENT_TIMESTAMP) < MONTH(date_of_birth)), \n",
    "        YEAR(CURDATE())- YEAR(date_of_birth) - (DAY(CURRENT_TIMESTAMP) < DAY(date_of_birth))) WHERE date_of_birth IS NOT NULL\"\"\")\n",
    "        database.commit()\n",
    "        mycursor.execute(\"\"\"ALTER TABLE applications DROP date_of_birth\"\"\")\n",
    "        database.commit()\n",
    "        #проверка возраста до 18 лет\n",
    "        mycursor.execute(\"\"\"SELECT id_number, age FROM applications WHERE age < 18\"\"\")\n",
    "        data = mycursor.fetchall()\n",
    "        if not data:\n",
    "            print(\"Заёмщиков младше 18 лет не найдено\")\n",
    "        else:\n",
    "            data1 = pd.DataFrame(data)\n",
    "            data1.columns = [x[0] for x in mycursor.description]\n",
    "            print(\"Найдены следующие заёмщики младше 18 лет:\")\n",
    "            display(data1)"
   ]
  },
  {
   "cell_type": "markdown",
   "metadata": {},
   "source": [
    "#### Проверка значений в таблице applications"
   ]
  },
  {
   "cell_type": "code",
   "execution_count": 21,
   "metadata": {},
   "outputs": [],
   "source": [
    "table = 'applications'"
   ]
  },
  {
   "cell_type": "markdown",
   "metadata": {},
   "source": [
    "Проверим таблицу заявок по всем категориальным полям"
   ]
  },
  {
   "cell_type": "code",
   "execution_count": 22,
   "metadata": {},
   "outputs": [
    {
     "name": "stdout",
     "output_type": "stream",
     "text": [
      "Проверка обозначений по полю education\n"
     ]
    },
    {
     "data": {
      "text/html": [
       "<div>\n",
       "<style scoped>\n",
       "    .dataframe tbody tr th:only-of-type {\n",
       "        vertical-align: middle;\n",
       "    }\n",
       "\n",
       "    .dataframe tbody tr th {\n",
       "        vertical-align: top;\n",
       "    }\n",
       "\n",
       "    .dataframe thead th {\n",
       "        text-align: right;\n",
       "    }\n",
       "</style>\n",
       "<table border=\"1\" class=\"dataframe\">\n",
       "  <thead>\n",
       "    <tr style=\"text-align: right;\">\n",
       "      <th></th>\n",
       "      <th>education</th>\n",
       "      <th>count</th>\n",
       "    </tr>\n",
       "  </thead>\n",
       "  <tbody>\n",
       "    <tr>\n",
       "      <th>0</th>\n",
       "      <td>Higher education</td>\n",
       "      <td>18</td>\n",
       "    </tr>\n",
       "    <tr>\n",
       "      <th>1</th>\n",
       "      <td>Secondary / secondary special</td>\n",
       "      <td>44</td>\n",
       "    </tr>\n",
       "    <tr>\n",
       "      <th>2</th>\n",
       "      <td>Incomplete higher</td>\n",
       "      <td>1</td>\n",
       "    </tr>\n",
       "    <tr>\n",
       "      <th>3</th>\n",
       "      <td>None</td>\n",
       "      <td>1</td>\n",
       "    </tr>\n",
       "  </tbody>\n",
       "</table>\n",
       "</div>"
      ],
      "text/plain": [
       "                       education  count\n",
       "0               Higher education     18\n",
       "1  Secondary / secondary special     44\n",
       "2              Incomplete higher      1\n",
       "3                           None      1"
      ]
     },
     "metadata": {},
     "output_type": "display_data"
    },
    {
     "name": "stdout",
     "output_type": "stream",
     "text": [
      "- - - - - - - - - - - - - - - - - - - - - - - - - - - - - - \n",
      "\n",
      "Проверка обозначений по полю employed_by\n"
     ]
    },
    {
     "data": {
      "text/html": [
       "<div>\n",
       "<style scoped>\n",
       "    .dataframe tbody tr th:only-of-type {\n",
       "        vertical-align: middle;\n",
       "    }\n",
       "\n",
       "    .dataframe tbody tr th {\n",
       "        vertical-align: top;\n",
       "    }\n",
       "\n",
       "    .dataframe thead th {\n",
       "        text-align: right;\n",
       "    }\n",
       "</style>\n",
       "<table border=\"1\" class=\"dataframe\">\n",
       "  <thead>\n",
       "    <tr style=\"text-align: right;\">\n",
       "      <th></th>\n",
       "      <th>employed_by</th>\n",
       "      <th>count</th>\n",
       "    </tr>\n",
       "  </thead>\n",
       "  <tbody>\n",
       "    <tr>\n",
       "      <th>0</th>\n",
       "      <td>School</td>\n",
       "      <td>2</td>\n",
       "    </tr>\n",
       "    <tr>\n",
       "      <th>1</th>\n",
       "      <td>Government</td>\n",
       "      <td>3</td>\n",
       "    </tr>\n",
       "    <tr>\n",
       "      <th>2</th>\n",
       "      <td>Business Entity Type 3</td>\n",
       "      <td>12</td>\n",
       "    </tr>\n",
       "    <tr>\n",
       "      <th>3</th>\n",
       "      <td>Religion</td>\n",
       "      <td>1</td>\n",
       "    </tr>\n",
       "    <tr>\n",
       "      <th>4</th>\n",
       "      <td>Other</td>\n",
       "      <td>3</td>\n",
       "    </tr>\n",
       "    <tr>\n",
       "      <th>5</th>\n",
       "      <td>XNA</td>\n",
       "      <td>9</td>\n",
       "    </tr>\n",
       "    <tr>\n",
       "      <th>6</th>\n",
       "      <td>Electricity</td>\n",
       "      <td>1</td>\n",
       "    </tr>\n",
       "    <tr>\n",
       "      <th>7</th>\n",
       "      <td>Medicine</td>\n",
       "      <td>2</td>\n",
       "    </tr>\n",
       "    <tr>\n",
       "      <th>8</th>\n",
       "      <td>Business Entity Type 2</td>\n",
       "      <td>3</td>\n",
       "    </tr>\n",
       "    <tr>\n",
       "      <th>9</th>\n",
       "      <td>Self-employed</td>\n",
       "      <td>8</td>\n",
       "    </tr>\n",
       "    <tr>\n",
       "      <th>10</th>\n",
       "      <td>Transport: type 2</td>\n",
       "      <td>2</td>\n",
       "    </tr>\n",
       "    <tr>\n",
       "      <th>11</th>\n",
       "      <td>Construction</td>\n",
       "      <td>1</td>\n",
       "    </tr>\n",
       "    <tr>\n",
       "      <th>12</th>\n",
       "      <td>Housing</td>\n",
       "      <td>1</td>\n",
       "    </tr>\n",
       "    <tr>\n",
       "      <th>13</th>\n",
       "      <td>Kindergarten</td>\n",
       "      <td>1</td>\n",
       "    </tr>\n",
       "    <tr>\n",
       "      <th>14</th>\n",
       "      <td>Trade: type 7</td>\n",
       "      <td>1</td>\n",
       "    </tr>\n",
       "    <tr>\n",
       "      <th>15</th>\n",
       "      <td>Industry: type 11</td>\n",
       "      <td>2</td>\n",
       "    </tr>\n",
       "    <tr>\n",
       "      <th>16</th>\n",
       "      <td>Military</td>\n",
       "      <td>1</td>\n",
       "    </tr>\n",
       "    <tr>\n",
       "      <th>17</th>\n",
       "      <td>Services</td>\n",
       "      <td>2</td>\n",
       "    </tr>\n",
       "    <tr>\n",
       "      <th>18</th>\n",
       "      <td>Security Ministries</td>\n",
       "      <td>1</td>\n",
       "    </tr>\n",
       "    <tr>\n",
       "      <th>19</th>\n",
       "      <td>Transport: type 4</td>\n",
       "      <td>2</td>\n",
       "    </tr>\n",
       "    <tr>\n",
       "      <th>20</th>\n",
       "      <td>Industry: type 1</td>\n",
       "      <td>1</td>\n",
       "    </tr>\n",
       "    <tr>\n",
       "      <th>21</th>\n",
       "      <td>Emergency</td>\n",
       "      <td>1</td>\n",
       "    </tr>\n",
       "    <tr>\n",
       "      <th>22</th>\n",
       "      <td>Security</td>\n",
       "      <td>1</td>\n",
       "    </tr>\n",
       "    <tr>\n",
       "      <th>23</th>\n",
       "      <td>Trade: type 2</td>\n",
       "      <td>1</td>\n",
       "    </tr>\n",
       "    <tr>\n",
       "      <th>24</th>\n",
       "      <td>University</td>\n",
       "      <td>1</td>\n",
       "    </tr>\n",
       "    <tr>\n",
       "      <th>25</th>\n",
       "      <td>Transport: type 3</td>\n",
       "      <td>1</td>\n",
       "    </tr>\n",
       "  </tbody>\n",
       "</table>\n",
       "</div>"
      ],
      "text/plain": [
       "               employed_by  count\n",
       "0                   School      2\n",
       "1               Government      3\n",
       "2   Business Entity Type 3     12\n",
       "3                 Religion      1\n",
       "4                    Other      3\n",
       "5                      XNA      9\n",
       "6              Electricity      1\n",
       "7                 Medicine      2\n",
       "8   Business Entity Type 2      3\n",
       "9            Self-employed      8\n",
       "10       Transport: type 2      2\n",
       "11            Construction      1\n",
       "12                 Housing      1\n",
       "13            Kindergarten      1\n",
       "14           Trade: type 7      1\n",
       "15       Industry: type 11      2\n",
       "16                Military      1\n",
       "17                Services      2\n",
       "18     Security Ministries      1\n",
       "19       Transport: type 4      2\n",
       "20        Industry: type 1      1\n",
       "21               Emergency      1\n",
       "22                Security      1\n",
       "23           Trade: type 2      1\n",
       "24              University      1\n",
       "25       Transport: type 3      1"
      ]
     },
     "metadata": {},
     "output_type": "display_data"
    },
    {
     "name": "stdout",
     "output_type": "stream",
     "text": [
      "- - - - - - - - - - - - - - - - - - - - - - - - - - - - - - \n",
      "\n",
      "Проверка обозначений по полю gender\n"
     ]
    },
    {
     "data": {
      "text/html": [
       "<div>\n",
       "<style scoped>\n",
       "    .dataframe tbody tr th:only-of-type {\n",
       "        vertical-align: middle;\n",
       "    }\n",
       "\n",
       "    .dataframe tbody tr th {\n",
       "        vertical-align: top;\n",
       "    }\n",
       "\n",
       "    .dataframe thead th {\n",
       "        text-align: right;\n",
       "    }\n",
       "</style>\n",
       "<table border=\"1\" class=\"dataframe\">\n",
       "  <thead>\n",
       "    <tr style=\"text-align: right;\">\n",
       "      <th></th>\n",
       "      <th>gender</th>\n",
       "      <th>count</th>\n",
       "    </tr>\n",
       "  </thead>\n",
       "  <tbody>\n",
       "    <tr>\n",
       "      <th>0</th>\n",
       "      <td>Female</td>\n",
       "      <td>36</td>\n",
       "    </tr>\n",
       "    <tr>\n",
       "      <th>1</th>\n",
       "      <td>Male</td>\n",
       "      <td>28</td>\n",
       "    </tr>\n",
       "  </tbody>\n",
       "</table>\n",
       "</div>"
      ],
      "text/plain": [
       "   gender  count\n",
       "0  Female     36\n",
       "1    Male     28"
      ]
     },
     "metadata": {},
     "output_type": "display_data"
    },
    {
     "name": "stdout",
     "output_type": "stream",
     "text": [
      "- - - - - - - - - - - - - - - - - - - - - - - - - - - - - - \n",
      "\n",
      "Проверка обозначений по полю house_ownership\n"
     ]
    },
    {
     "data": {
      "text/html": [
       "<div>\n",
       "<style scoped>\n",
       "    .dataframe tbody tr th:only-of-type {\n",
       "        vertical-align: middle;\n",
       "    }\n",
       "\n",
       "    .dataframe tbody tr th {\n",
       "        vertical-align: top;\n",
       "    }\n",
       "\n",
       "    .dataframe thead th {\n",
       "        text-align: right;\n",
       "    }\n",
       "</style>\n",
       "<table border=\"1\" class=\"dataframe\">\n",
       "  <thead>\n",
       "    <tr style=\"text-align: right;\">\n",
       "      <th></th>\n",
       "      <th>house_ownership</th>\n",
       "      <th>count</th>\n",
       "    </tr>\n",
       "  </thead>\n",
       "  <tbody>\n",
       "    <tr>\n",
       "      <th>0</th>\n",
       "      <td>N</td>\n",
       "      <td>15</td>\n",
       "    </tr>\n",
       "    <tr>\n",
       "      <th>1</th>\n",
       "      <td>Y</td>\n",
       "      <td>48</td>\n",
       "    </tr>\n",
       "    <tr>\n",
       "      <th>2</th>\n",
       "      <td>None</td>\n",
       "      <td>1</td>\n",
       "    </tr>\n",
       "  </tbody>\n",
       "</table>\n",
       "</div>"
      ],
      "text/plain": [
       "  house_ownership  count\n",
       "0               N     15\n",
       "1               Y     48\n",
       "2            None      1"
      ]
     },
     "metadata": {},
     "output_type": "display_data"
    },
    {
     "name": "stdout",
     "output_type": "stream",
     "text": [
      "- - - - - - - - - - - - - - - - - - - - - - - - - - - - - - \n",
      "\n",
      "Проверка обозначений по полю housing\n"
     ]
    },
    {
     "data": {
      "text/html": [
       "<div>\n",
       "<style scoped>\n",
       "    .dataframe tbody tr th:only-of-type {\n",
       "        vertical-align: middle;\n",
       "    }\n",
       "\n",
       "    .dataframe tbody tr th {\n",
       "        vertical-align: top;\n",
       "    }\n",
       "\n",
       "    .dataframe thead th {\n",
       "        text-align: right;\n",
       "    }\n",
       "</style>\n",
       "<table border=\"1\" class=\"dataframe\">\n",
       "  <thead>\n",
       "    <tr style=\"text-align: right;\">\n",
       "      <th></th>\n",
       "      <th>housing</th>\n",
       "      <th>count</th>\n",
       "    </tr>\n",
       "  </thead>\n",
       "  <tbody>\n",
       "    <tr>\n",
       "      <th>0</th>\n",
       "      <td>House / apartment</td>\n",
       "      <td>58</td>\n",
       "    </tr>\n",
       "    <tr>\n",
       "      <th>1</th>\n",
       "      <td>Rented apartment</td>\n",
       "      <td>2</td>\n",
       "    </tr>\n",
       "    <tr>\n",
       "      <th>2</th>\n",
       "      <td>With parents</td>\n",
       "      <td>2</td>\n",
       "    </tr>\n",
       "    <tr>\n",
       "      <th>3</th>\n",
       "      <td>Municipal apartment</td>\n",
       "      <td>1</td>\n",
       "    </tr>\n",
       "    <tr>\n",
       "      <th>4</th>\n",
       "      <td>None</td>\n",
       "      <td>1</td>\n",
       "    </tr>\n",
       "  </tbody>\n",
       "</table>\n",
       "</div>"
      ],
      "text/plain": [
       "               housing  count\n",
       "0    House / apartment     58\n",
       "1     Rented apartment      2\n",
       "2         With parents      2\n",
       "3  Municipal apartment      1\n",
       "4                 None      1"
      ]
     },
     "metadata": {},
     "output_type": "display_data"
    },
    {
     "name": "stdout",
     "output_type": "stream",
     "text": [
      "- - - - - - - - - - - - - - - - - - - - - - - - - - - - - - \n",
      "\n",
      "Проверка обозначений по полю income_type\n"
     ]
    },
    {
     "data": {
      "text/html": [
       "<div>\n",
       "<style scoped>\n",
       "    .dataframe tbody tr th:only-of-type {\n",
       "        vertical-align: middle;\n",
       "    }\n",
       "\n",
       "    .dataframe tbody tr th {\n",
       "        vertical-align: top;\n",
       "    }\n",
       "\n",
       "    .dataframe thead th {\n",
       "        text-align: right;\n",
       "    }\n",
       "</style>\n",
       "<table border=\"1\" class=\"dataframe\">\n",
       "  <thead>\n",
       "    <tr style=\"text-align: right;\">\n",
       "      <th></th>\n",
       "      <th>income_type</th>\n",
       "      <th>count</th>\n",
       "    </tr>\n",
       "  </thead>\n",
       "  <tbody>\n",
       "    <tr>\n",
       "      <th>0</th>\n",
       "      <td>State servant</td>\n",
       "      <td>8</td>\n",
       "    </tr>\n",
       "    <tr>\n",
       "      <th>1</th>\n",
       "      <td>Working</td>\n",
       "      <td>37</td>\n",
       "    </tr>\n",
       "    <tr>\n",
       "      <th>2</th>\n",
       "      <td>Commercial associate</td>\n",
       "      <td>9</td>\n",
       "    </tr>\n",
       "    <tr>\n",
       "      <th>3</th>\n",
       "      <td>Pensioner</td>\n",
       "      <td>9</td>\n",
       "    </tr>\n",
       "    <tr>\n",
       "      <th>4</th>\n",
       "      <td>None</td>\n",
       "      <td>1</td>\n",
       "    </tr>\n",
       "  </tbody>\n",
       "</table>\n",
       "</div>"
      ],
      "text/plain": [
       "            income_type  count\n",
       "0         State servant      8\n",
       "1               Working     37\n",
       "2  Commercial associate      9\n",
       "3             Pensioner      9\n",
       "4                  None      1"
      ]
     },
     "metadata": {},
     "output_type": "display_data"
    },
    {
     "name": "stdout",
     "output_type": "stream",
     "text": [
      "- - - - - - - - - - - - - - - - - - - - - - - - - - - - - - \n",
      "\n",
      "Проверка обозначений по полю marital_status\n"
     ]
    },
    {
     "data": {
      "text/html": [
       "<div>\n",
       "<style scoped>\n",
       "    .dataframe tbody tr th:only-of-type {\n",
       "        vertical-align: middle;\n",
       "    }\n",
       "\n",
       "    .dataframe tbody tr th {\n",
       "        vertical-align: top;\n",
       "    }\n",
       "\n",
       "    .dataframe thead th {\n",
       "        text-align: right;\n",
       "    }\n",
       "</style>\n",
       "<table border=\"1\" class=\"dataframe\">\n",
       "  <thead>\n",
       "    <tr style=\"text-align: right;\">\n",
       "      <th></th>\n",
       "      <th>marital_status</th>\n",
       "      <th>count</th>\n",
       "    </tr>\n",
       "  </thead>\n",
       "  <tbody>\n",
       "    <tr>\n",
       "      <th>0</th>\n",
       "      <td>Married</td>\n",
       "      <td>39</td>\n",
       "    </tr>\n",
       "    <tr>\n",
       "      <th>1</th>\n",
       "      <td>Single / not married</td>\n",
       "      <td>12</td>\n",
       "    </tr>\n",
       "    <tr>\n",
       "      <th>2</th>\n",
       "      <td>Civil marriage</td>\n",
       "      <td>8</td>\n",
       "    </tr>\n",
       "    <tr>\n",
       "      <th>3</th>\n",
       "      <td>Widow</td>\n",
       "      <td>3</td>\n",
       "    </tr>\n",
       "    <tr>\n",
       "      <th>4</th>\n",
       "      <td>Separated</td>\n",
       "      <td>1</td>\n",
       "    </tr>\n",
       "    <tr>\n",
       "      <th>5</th>\n",
       "      <td>None</td>\n",
       "      <td>1</td>\n",
       "    </tr>\n",
       "  </tbody>\n",
       "</table>\n",
       "</div>"
      ],
      "text/plain": [
       "         marital_status  count\n",
       "0               Married     39\n",
       "1  Single / not married     12\n",
       "2        Civil marriage      8\n",
       "3                 Widow      3\n",
       "4             Separated      1\n",
       "5                  None      1"
      ]
     },
     "metadata": {},
     "output_type": "display_data"
    },
    {
     "name": "stdout",
     "output_type": "stream",
     "text": [
      "- - - - - - - - - - - - - - - - - - - - - - - - - - - - - - \n",
      "\n",
      "Проверка обозначений по полю position\n"
     ]
    },
    {
     "data": {
      "text/html": [
       "<div>\n",
       "<style scoped>\n",
       "    .dataframe tbody tr th:only-of-type {\n",
       "        vertical-align: middle;\n",
       "    }\n",
       "\n",
       "    .dataframe tbody tr th {\n",
       "        vertical-align: top;\n",
       "    }\n",
       "\n",
       "    .dataframe thead th {\n",
       "        text-align: right;\n",
       "    }\n",
       "</style>\n",
       "<table border=\"1\" class=\"dataframe\">\n",
       "  <thead>\n",
       "    <tr style=\"text-align: right;\">\n",
       "      <th></th>\n",
       "      <th>position</th>\n",
       "      <th>count</th>\n",
       "    </tr>\n",
       "  </thead>\n",
       "  <tbody>\n",
       "    <tr>\n",
       "      <th>0</th>\n",
       "      <td>Core staff</td>\n",
       "      <td>7</td>\n",
       "    </tr>\n",
       "    <tr>\n",
       "      <th>1</th>\n",
       "      <td>Laborers</td>\n",
       "      <td>17</td>\n",
       "    </tr>\n",
       "    <tr>\n",
       "      <th>2</th>\n",
       "      <td>Accountants</td>\n",
       "      <td>2</td>\n",
       "    </tr>\n",
       "    <tr>\n",
       "      <th>3</th>\n",
       "      <td>Managers</td>\n",
       "      <td>6</td>\n",
       "    </tr>\n",
       "    <tr>\n",
       "      <th>4</th>\n",
       "      <td>&lt;undefined&gt;</td>\n",
       "      <td>14</td>\n",
       "    </tr>\n",
       "    <tr>\n",
       "      <th>5</th>\n",
       "      <td>Drivers</td>\n",
       "      <td>6</td>\n",
       "    </tr>\n",
       "    <tr>\n",
       "      <th>6</th>\n",
       "      <td>Sales staff</td>\n",
       "      <td>6</td>\n",
       "    </tr>\n",
       "    <tr>\n",
       "      <th>7</th>\n",
       "      <td>Cleaning staff</td>\n",
       "      <td>1</td>\n",
       "    </tr>\n",
       "    <tr>\n",
       "      <th>8</th>\n",
       "      <td>Cooking staff</td>\n",
       "      <td>1</td>\n",
       "    </tr>\n",
       "    <tr>\n",
       "      <th>9</th>\n",
       "      <td>Private service staff</td>\n",
       "      <td>2</td>\n",
       "    </tr>\n",
       "    <tr>\n",
       "      <th>10</th>\n",
       "      <td>Medicine staff</td>\n",
       "      <td>1</td>\n",
       "    </tr>\n",
       "    <tr>\n",
       "      <th>11</th>\n",
       "      <td>Security staff</td>\n",
       "      <td>1</td>\n",
       "    </tr>\n",
       "  </tbody>\n",
       "</table>\n",
       "</div>"
      ],
      "text/plain": [
       "                 position  count\n",
       "0              Core staff      7\n",
       "1                Laborers     17\n",
       "2             Accountants      2\n",
       "3                Managers      6\n",
       "4             <undefined>     14\n",
       "5                 Drivers      6\n",
       "6             Sales staff      6\n",
       "7          Cleaning staff      1\n",
       "8           Cooking staff      1\n",
       "9   Private service staff      2\n",
       "10         Medicine staff      1\n",
       "11         Security staff      1"
      ]
     },
     "metadata": {},
     "output_type": "display_data"
    },
    {
     "name": "stdout",
     "output_type": "stream",
     "text": [
      "- - - - - - - - - - - - - - - - - - - - - - - - - - - - - - \n",
      "\n"
     ]
    }
   ],
   "source": [
    "data_type = 'varchar'\n",
    "value_check(table, data_type)"
   ]
  },
  {
   "cell_type": "markdown",
   "metadata": {},
   "source": [
    "Как мы видим, нарушения в обозначениях не наблюдаются нигде, кроме поля position, поскольку в нём присутствует значение undefined. Заменим данное значение в таблице на стандартное для пропуска None."
   ]
  },
  {
   "cell_type": "code",
   "execution_count": 23,
   "metadata": {},
   "outputs": [
    {
     "name": "stdout",
     "output_type": "stream",
     "text": [
      "14  значений <undefined> заменены на None\n"
     ]
    }
   ],
   "source": [
    "mycursor.execute(\"UPDATE applications SET position = NULL WHERE position = '<undefined>'\")\n",
    "mycursor.execute(\"\"\"SELECT ROW_COUNT()\"\"\")\n",
    "counter = mycursor.fetchall()[0][0]\n",
    "database.commit()\n",
    "print(counter, \" значений <undefined> заменены на None\")"
   ]
  },
  {
   "cell_type": "markdown",
   "metadata": {},
   "source": [
    "Проверка на соотношение количества членов семьи и детей (количество членов семьи не должно превышать сумму детей и родителей в зависимости от семейного положения родителей)"
   ]
  },
  {
   "cell_type": "code",
   "execution_count": 24,
   "metadata": {},
   "outputs": [
    {
     "name": "stdout",
     "output_type": "stream",
     "text": [
      "Ошибки в соотношении количества членов семьи и детей не найдены\n"
     ]
    }
   ],
   "source": [
    "mycursor.execute(\"\"\"SELECT id_number, family, children, marital_status FROM applications \n",
    "WHERE marital_status = 'Married' OR marital_status = 'Civil marriage' GROUP BY id_number\n",
    "HAVING COUNT(CASE WHEN family <> children + 2 THEN 1 END) UNION ALL SELECT id_number, family, children, marital_status FROM applications \n",
    "WHERE marital_status = 'Separated' OR marital_status = 'Widow' OR marital_status = 'Single / not married' GROUP BY id_number\n",
    "HAVING COUNT(CASE WHEN family <> children + 1 THEN 1 END)\"\"\")\n",
    "data = mycursor.fetchall()\n",
    "if not data:\n",
    "    print('Ошибки в соотношении количества членов семьи и детей не найдены')\n",
    "else:\n",
    "    data1 = pd.DataFrame(data)\n",
    "    data1.columns = [x[0] for x in mycursor.description]\n",
    "    print('Ошибки в соотношении количества членов семьи и детей найдены по следующим заёмщикам:')\n",
    "    display(data1)"
   ]
  },
  {
   "cell_type": "markdown",
   "metadata": {},
   "source": [
    "Проверка числовых переменных:"
   ]
  },
  {
   "cell_type": "code",
   "execution_count": 25,
   "metadata": {},
   "outputs": [
    {
     "name": "stdout",
     "output_type": "stream",
     "text": [
      "Проверка обозначений по полю age_of_car\n"
     ]
    },
    {
     "data": {
      "text/html": [
       "<div>\n",
       "<style scoped>\n",
       "    .dataframe tbody tr th:only-of-type {\n",
       "        vertical-align: middle;\n",
       "    }\n",
       "\n",
       "    .dataframe tbody tr th {\n",
       "        vertical-align: top;\n",
       "    }\n",
       "\n",
       "    .dataframe thead th {\n",
       "        text-align: right;\n",
       "    }\n",
       "</style>\n",
       "<table border=\"1\" class=\"dataframe\">\n",
       "  <thead>\n",
       "    <tr style=\"text-align: right;\">\n",
       "      <th></th>\n",
       "      <th>MAX(age_of_car)</th>\n",
       "      <th>MIN(age_of_car)</th>\n",
       "      <th>null_count</th>\n",
       "    </tr>\n",
       "  </thead>\n",
       "  <tbody>\n",
       "    <tr>\n",
       "      <th>0</th>\n",
       "      <td>26</td>\n",
       "      <td>1</td>\n",
       "      <td>46</td>\n",
       "    </tr>\n",
       "  </tbody>\n",
       "</table>\n",
       "</div>"
      ],
      "text/plain": [
       "   MAX(age_of_car)  MIN(age_of_car)  null_count\n",
       "0               26                1          46"
      ]
     },
     "metadata": {},
     "output_type": "display_data"
    },
    {
     "name": "stdout",
     "output_type": "stream",
     "text": [
      "- - - - - - - - - - - - - - - - - - - - - - - - - - - - - - \n",
      "\n",
      "Проверка обозначений по полю children\n"
     ]
    },
    {
     "data": {
      "text/html": [
       "<div>\n",
       "<style scoped>\n",
       "    .dataframe tbody tr th:only-of-type {\n",
       "        vertical-align: middle;\n",
       "    }\n",
       "\n",
       "    .dataframe tbody tr th {\n",
       "        vertical-align: top;\n",
       "    }\n",
       "\n",
       "    .dataframe thead th {\n",
       "        text-align: right;\n",
       "    }\n",
       "</style>\n",
       "<table border=\"1\" class=\"dataframe\">\n",
       "  <thead>\n",
       "    <tr style=\"text-align: right;\">\n",
       "      <th></th>\n",
       "      <th>MAX(children)</th>\n",
       "      <th>MIN(children)</th>\n",
       "      <th>null_count</th>\n",
       "    </tr>\n",
       "  </thead>\n",
       "  <tbody>\n",
       "    <tr>\n",
       "      <th>0</th>\n",
       "      <td>2</td>\n",
       "      <td>0</td>\n",
       "      <td>1</td>\n",
       "    </tr>\n",
       "  </tbody>\n",
       "</table>\n",
       "</div>"
      ],
      "text/plain": [
       "   MAX(children)  MIN(children)  null_count\n",
       "0              2              0           1"
      ]
     },
     "metadata": {},
     "output_type": "display_data"
    },
    {
     "name": "stdout",
     "output_type": "stream",
     "text": [
      "- - - - - - - - - - - - - - - - - - - - - - - - - - - - - - \n",
      "\n",
      "Проверка обозначений по полю family\n"
     ]
    },
    {
     "data": {
      "text/html": [
       "<div>\n",
       "<style scoped>\n",
       "    .dataframe tbody tr th:only-of-type {\n",
       "        vertical-align: middle;\n",
       "    }\n",
       "\n",
       "    .dataframe tbody tr th {\n",
       "        vertical-align: top;\n",
       "    }\n",
       "\n",
       "    .dataframe thead th {\n",
       "        text-align: right;\n",
       "    }\n",
       "</style>\n",
       "<table border=\"1\" class=\"dataframe\">\n",
       "  <thead>\n",
       "    <tr style=\"text-align: right;\">\n",
       "      <th></th>\n",
       "      <th>MAX(family)</th>\n",
       "      <th>MIN(family)</th>\n",
       "      <th>null_count</th>\n",
       "    </tr>\n",
       "  </thead>\n",
       "  <tbody>\n",
       "    <tr>\n",
       "      <th>0</th>\n",
       "      <td>4</td>\n",
       "      <td>1</td>\n",
       "      <td>1</td>\n",
       "    </tr>\n",
       "  </tbody>\n",
       "</table>\n",
       "</div>"
      ],
      "text/plain": [
       "   MAX(family)  MIN(family)  null_count\n",
       "0            4            1           1"
      ]
     },
     "metadata": {},
     "output_type": "display_data"
    },
    {
     "name": "stdout",
     "output_type": "stream",
     "text": [
      "- - - - - - - - - - - - - - - - - - - - - - - - - - - - - - \n",
      "\n",
      "Проверка обозначений по полю id_number\n"
     ]
    },
    {
     "data": {
      "text/html": [
       "<div>\n",
       "<style scoped>\n",
       "    .dataframe tbody tr th:only-of-type {\n",
       "        vertical-align: middle;\n",
       "    }\n",
       "\n",
       "    .dataframe tbody tr th {\n",
       "        vertical-align: top;\n",
       "    }\n",
       "\n",
       "    .dataframe thead th {\n",
       "        text-align: right;\n",
       "    }\n",
       "</style>\n",
       "<table border=\"1\" class=\"dataframe\">\n",
       "  <thead>\n",
       "    <tr style=\"text-align: right;\">\n",
       "      <th></th>\n",
       "      <th>MAX(id_number)</th>\n",
       "      <th>MIN(id_number)</th>\n",
       "      <th>null_count</th>\n",
       "    </tr>\n",
       "  </thead>\n",
       "  <tbody>\n",
       "    <tr>\n",
       "      <th>0</th>\n",
       "      <td>100076</td>\n",
       "      <td>100003</td>\n",
       "      <td>0</td>\n",
       "    </tr>\n",
       "  </tbody>\n",
       "</table>\n",
       "</div>"
      ],
      "text/plain": [
       "   MAX(id_number)  MIN(id_number)  null_count\n",
       "0          100076          100003           0"
      ]
     },
     "metadata": {},
     "output_type": "display_data"
    },
    {
     "name": "stdout",
     "output_type": "stream",
     "text": [
      "- - - - - - - - - - - - - - - - - - - - - - - - - - - - - - \n",
      "\n",
      "Проверка обозначений по полю income\n"
     ]
    },
    {
     "data": {
      "text/html": [
       "<div>\n",
       "<style scoped>\n",
       "    .dataframe tbody tr th:only-of-type {\n",
       "        vertical-align: middle;\n",
       "    }\n",
       "\n",
       "    .dataframe tbody tr th {\n",
       "        vertical-align: top;\n",
       "    }\n",
       "\n",
       "    .dataframe thead th {\n",
       "        text-align: right;\n",
       "    }\n",
       "</style>\n",
       "<table border=\"1\" class=\"dataframe\">\n",
       "  <thead>\n",
       "    <tr style=\"text-align: right;\">\n",
       "      <th></th>\n",
       "      <th>MAX(income)</th>\n",
       "      <th>MIN(income)</th>\n",
       "      <th>null_count</th>\n",
       "    </tr>\n",
       "  </thead>\n",
       "  <tbody>\n",
       "    <tr>\n",
       "      <th>0</th>\n",
       "      <td>540000</td>\n",
       "      <td>38419</td>\n",
       "      <td>1</td>\n",
       "    </tr>\n",
       "  </tbody>\n",
       "</table>\n",
       "</div>"
      ],
      "text/plain": [
       "   MAX(income)  MIN(income)  null_count\n",
       "0       540000        38419           1"
      ]
     },
     "metadata": {},
     "output_type": "display_data"
    },
    {
     "name": "stdout",
     "output_type": "stream",
     "text": [
      "- - - - - - - - - - - - - - - - - - - - - - - - - - - - - - \n",
      "\n"
     ]
    }
   ],
   "source": [
    "data_type = 'int'\n",
    "value_check(table, data_type)"
   ]
  },
  {
   "cell_type": "markdown",
   "metadata": {},
   "source": [
    "Если в данных есть отрицательные значения, исправим это, если нет - укажем, что ошибка не обнаружена"
   ]
  },
  {
   "cell_type": "code",
   "execution_count": 26,
   "metadata": {},
   "outputs": [
    {
     "name": "stdout",
     "output_type": "stream",
     "text": [
      "Отрицательные значения для поля age_of_car не найдены, ошибок нет\n",
      "Отрицательные значения для поля children не найдены, ошибок нет\n",
      "Отрицательные значения для поля family не найдены, ошибок нет\n",
      "Отрицательные значения для поля id_number не найдены, ошибок нет\n",
      "Отрицательные значения для поля income не найдены, ошибок нет\n"
     ]
    }
   ],
   "source": [
    "int_negative_value_update('applications')"
   ]
  },
  {
   "cell_type": "markdown",
   "metadata": {},
   "source": [
    "Проверим значения в полях с датами:"
   ]
  },
  {
   "cell_type": "code",
   "execution_count": 27,
   "metadata": {},
   "outputs": [
    {
     "name": "stdout",
     "output_type": "stream",
     "text": [
      "Проверка обозначений по полю application_date\n"
     ]
    },
    {
     "data": {
      "text/html": [
       "<div>\n",
       "<style scoped>\n",
       "    .dataframe tbody tr th:only-of-type {\n",
       "        vertical-align: middle;\n",
       "    }\n",
       "\n",
       "    .dataframe tbody tr th {\n",
       "        vertical-align: top;\n",
       "    }\n",
       "\n",
       "    .dataframe thead th {\n",
       "        text-align: right;\n",
       "    }\n",
       "</style>\n",
       "<table border=\"1\" class=\"dataframe\">\n",
       "  <thead>\n",
       "    <tr style=\"text-align: right;\">\n",
       "      <th></th>\n",
       "      <th>MAX(application_date)</th>\n",
       "      <th>MIN(application_date)</th>\n",
       "      <th>null_count</th>\n",
       "    </tr>\n",
       "  </thead>\n",
       "  <tbody>\n",
       "    <tr>\n",
       "      <th>0</th>\n",
       "      <td>2018-12-29</td>\n",
       "      <td>2014-05-06</td>\n",
       "      <td>0</td>\n",
       "    </tr>\n",
       "  </tbody>\n",
       "</table>\n",
       "</div>"
      ],
      "text/plain": [
       "  MAX(application_date) MIN(application_date)  null_count\n",
       "0            2018-12-29            2014-05-06           0"
      ]
     },
     "metadata": {},
     "output_type": "display_data"
    },
    {
     "name": "stdout",
     "output_type": "stream",
     "text": [
      "- - - - - - - - - - - - - - - - - - - - - - - - - - - - - - \n",
      "\n",
      "Проверка обозначений по полю date_of_birth\n"
     ]
    },
    {
     "data": {
      "text/html": [
       "<div>\n",
       "<style scoped>\n",
       "    .dataframe tbody tr th:only-of-type {\n",
       "        vertical-align: middle;\n",
       "    }\n",
       "\n",
       "    .dataframe tbody tr th {\n",
       "        vertical-align: top;\n",
       "    }\n",
       "\n",
       "    .dataframe thead th {\n",
       "        text-align: right;\n",
       "    }\n",
       "</style>\n",
       "<table border=\"1\" class=\"dataframe\">\n",
       "  <thead>\n",
       "    <tr style=\"text-align: right;\">\n",
       "      <th></th>\n",
       "      <th>MAX(date_of_birth)</th>\n",
       "      <th>MIN(date_of_birth)</th>\n",
       "      <th>null_count</th>\n",
       "    </tr>\n",
       "  </thead>\n",
       "  <tbody>\n",
       "    <tr>\n",
       "      <th>0</th>\n",
       "      <td>1997-12-03</td>\n",
       "      <td>1947-10-14</td>\n",
       "      <td>0</td>\n",
       "    </tr>\n",
       "  </tbody>\n",
       "</table>\n",
       "</div>"
      ],
      "text/plain": [
       "  MAX(date_of_birth) MIN(date_of_birth)  null_count\n",
       "0         1997-12-03         1947-10-14           0"
      ]
     },
     "metadata": {},
     "output_type": "display_data"
    },
    {
     "name": "stdout",
     "output_type": "stream",
     "text": [
      "- - - - - - - - - - - - - - - - - - - - - - - - - - - - - - \n",
      "\n",
      "Проверка обозначений по полю issue_date\n"
     ]
    },
    {
     "data": {
      "text/html": [
       "<div>\n",
       "<style scoped>\n",
       "    .dataframe tbody tr th:only-of-type {\n",
       "        vertical-align: middle;\n",
       "    }\n",
       "\n",
       "    .dataframe tbody tr th {\n",
       "        vertical-align: top;\n",
       "    }\n",
       "\n",
       "    .dataframe thead th {\n",
       "        text-align: right;\n",
       "    }\n",
       "</style>\n",
       "<table border=\"1\" class=\"dataframe\">\n",
       "  <thead>\n",
       "    <tr style=\"text-align: right;\">\n",
       "      <th></th>\n",
       "      <th>MAX(issue_date)</th>\n",
       "      <th>MIN(issue_date)</th>\n",
       "      <th>null_count</th>\n",
       "    </tr>\n",
       "  </thead>\n",
       "  <tbody>\n",
       "    <tr>\n",
       "      <th>0</th>\n",
       "      <td>2017-03-28</td>\n",
       "      <td>2001-10-01</td>\n",
       "      <td>0</td>\n",
       "    </tr>\n",
       "  </tbody>\n",
       "</table>\n",
       "</div>"
      ],
      "text/plain": [
       "  MAX(issue_date) MIN(issue_date)  null_count\n",
       "0      2017-03-28      2001-10-01           0"
      ]
     },
     "metadata": {},
     "output_type": "display_data"
    },
    {
     "name": "stdout",
     "output_type": "stream",
     "text": [
      "- - - - - - - - - - - - - - - - - - - - - - - - - - - - - - \n",
      "\n"
     ]
    }
   ],
   "source": [
    "data_type = 'date'\n",
    "value_check(table, data_type)"
   ]
  },
  {
   "cell_type": "markdown",
   "metadata": {},
   "source": [
    "Проверим, есть ли в данных с датами некорректные значения (даты из будущего, займщики младше 18 лет), создадим поле возраста"
   ]
  },
  {
   "cell_type": "code",
   "execution_count": 28,
   "metadata": {},
   "outputs": [
    {
     "name": "stdout",
     "output_type": "stream",
     "text": [
      "Среди дат по полю application_date некорректные значения не найдены\n",
      "Среди дат по полю date_of_birth некорректные значения не найдены\n",
      "Среди дат по полю issue_date некорректные значения не найдены\n",
      "- - - - - - - - - - - - - - - - - - - - - - - - - - - - - - \n",
      "Заёмщиков младше 18 лет не найдено\n"
     ]
    }
   ],
   "source": [
    "date_value_update(table)"
   ]
  },
  {
   "cell_type": "markdown",
   "metadata": {},
   "source": [
    "#### Проверка значений в таблице контрактов"
   ]
  },
  {
   "cell_type": "code",
   "execution_count": 29,
   "metadata": {},
   "outputs": [],
   "source": [
    "table = 'contracts'"
   ]
  },
  {
   "cell_type": "markdown",
   "metadata": {},
   "source": [
    "Проверим таблицу контрактов по всем категориальным полям"
   ]
  },
  {
   "cell_type": "code",
   "execution_count": 30,
   "metadata": {},
   "outputs": [
    {
     "name": "stdout",
     "output_type": "stream",
     "text": [
      "Проверка обозначений по полю type\n"
     ]
    },
    {
     "data": {
      "text/html": [
       "<div>\n",
       "<style scoped>\n",
       "    .dataframe tbody tr th:only-of-type {\n",
       "        vertical-align: middle;\n",
       "    }\n",
       "\n",
       "    .dataframe tbody tr th {\n",
       "        vertical-align: top;\n",
       "    }\n",
       "\n",
       "    .dataframe thead th {\n",
       "        text-align: right;\n",
       "    }\n",
       "</style>\n",
       "<table border=\"1\" class=\"dataframe\">\n",
       "  <thead>\n",
       "    <tr style=\"text-align: right;\">\n",
       "      <th></th>\n",
       "      <th>type</th>\n",
       "      <th>count</th>\n",
       "    </tr>\n",
       "  </thead>\n",
       "  <tbody>\n",
       "    <tr>\n",
       "      <th>0</th>\n",
       "      <td>Cash loans</td>\n",
       "      <td>52</td>\n",
       "    </tr>\n",
       "    <tr>\n",
       "      <th>1</th>\n",
       "      <td>Revolving loans</td>\n",
       "      <td>9</td>\n",
       "    </tr>\n",
       "  </tbody>\n",
       "</table>\n",
       "</div>"
      ],
      "text/plain": [
       "              type  count\n",
       "0       Cash loans     52\n",
       "1  Revolving loans      9"
      ]
     },
     "metadata": {},
     "output_type": "display_data"
    },
    {
     "name": "stdout",
     "output_type": "stream",
     "text": [
      "- - - - - - - - - - - - - - - - - - - - - - - - - - - - - - \n",
      "\n"
     ]
    }
   ],
   "source": [
    "data_type = 'varchar'\n",
    "value_check(table, data_type)"
   ]
  },
  {
   "cell_type": "markdown",
   "metadata": {},
   "source": [
    "Как мы видим, нарушения в обозначениях не наблюдаются"
   ]
  },
  {
   "cell_type": "markdown",
   "metadata": {},
   "source": [
    "Проверка числовых переменных:"
   ]
  },
  {
   "cell_type": "code",
   "execution_count": 31,
   "metadata": {},
   "outputs": [
    {
     "name": "stdout",
     "output_type": "stream",
     "text": [
      "Проверка обозначений по полю amount\n"
     ]
    },
    {
     "data": {
      "text/html": [
       "<div>\n",
       "<style scoped>\n",
       "    .dataframe tbody tr th:only-of-type {\n",
       "        vertical-align: middle;\n",
       "    }\n",
       "\n",
       "    .dataframe tbody tr th {\n",
       "        vertical-align: top;\n",
       "    }\n",
       "\n",
       "    .dataframe thead th {\n",
       "        text-align: right;\n",
       "    }\n",
       "</style>\n",
       "<table border=\"1\" class=\"dataframe\">\n",
       "  <thead>\n",
       "    <tr style=\"text-align: right;\">\n",
       "      <th></th>\n",
       "      <th>MAX(amount)</th>\n",
       "      <th>MIN(amount)</th>\n",
       "      <th>null_count</th>\n",
       "    </tr>\n",
       "  </thead>\n",
       "  <tbody>\n",
       "    <tr>\n",
       "      <th>0</th>\n",
       "      <td>1663988</td>\n",
       "      <td>80865</td>\n",
       "      <td>0</td>\n",
       "    </tr>\n",
       "  </tbody>\n",
       "</table>\n",
       "</div>"
      ],
      "text/plain": [
       "   MAX(amount)  MIN(amount)  null_count\n",
       "0      1663988        80865           0"
      ]
     },
     "metadata": {},
     "output_type": "display_data"
    },
    {
     "name": "stdout",
     "output_type": "stream",
     "text": [
      "- - - - - - - - - - - - - - - - - - - - - - - - - - - - - - \n",
      "\n",
      "Проверка обозначений по полю annuity\n"
     ]
    },
    {
     "data": {
      "text/html": [
       "<div>\n",
       "<style scoped>\n",
       "    .dataframe tbody tr th:only-of-type {\n",
       "        vertical-align: middle;\n",
       "    }\n",
       "\n",
       "    .dataframe tbody tr th {\n",
       "        vertical-align: top;\n",
       "    }\n",
       "\n",
       "    .dataframe thead th {\n",
       "        text-align: right;\n",
       "    }\n",
       "</style>\n",
       "<table border=\"1\" class=\"dataframe\">\n",
       "  <thead>\n",
       "    <tr style=\"text-align: right;\">\n",
       "      <th></th>\n",
       "      <th>MAX(annuity)</th>\n",
       "      <th>MIN(annuity)</th>\n",
       "      <th>null_count</th>\n",
       "    </tr>\n",
       "  </thead>\n",
       "  <tbody>\n",
       "    <tr>\n",
       "      <th>0</th>\n",
       "      <td>86990</td>\n",
       "      <td>5882</td>\n",
       "      <td>0</td>\n",
       "    </tr>\n",
       "  </tbody>\n",
       "</table>\n",
       "</div>"
      ],
      "text/plain": [
       "   MAX(annuity)  MIN(annuity)  null_count\n",
       "0         86990          5882           0"
      ]
     },
     "metadata": {},
     "output_type": "display_data"
    },
    {
     "name": "stdout",
     "output_type": "stream",
     "text": [
      "- - - - - - - - - - - - - - - - - - - - - - - - - - - - - - \n",
      "\n",
      "Проверка обозначений по полю contract_number\n"
     ]
    },
    {
     "data": {
      "text/html": [
       "<div>\n",
       "<style scoped>\n",
       "    .dataframe tbody tr th:only-of-type {\n",
       "        vertical-align: middle;\n",
       "    }\n",
       "\n",
       "    .dataframe tbody tr th {\n",
       "        vertical-align: top;\n",
       "    }\n",
       "\n",
       "    .dataframe thead th {\n",
       "        text-align: right;\n",
       "    }\n",
       "</style>\n",
       "<table border=\"1\" class=\"dataframe\">\n",
       "  <thead>\n",
       "    <tr style=\"text-align: right;\">\n",
       "      <th></th>\n",
       "      <th>MAX(contract_number)</th>\n",
       "      <th>MIN(contract_number)</th>\n",
       "      <th>null_count</th>\n",
       "    </tr>\n",
       "  </thead>\n",
       "  <tbody>\n",
       "    <tr>\n",
       "      <th>0</th>\n",
       "      <td>101028</td>\n",
       "      <td>100022</td>\n",
       "      <td>0</td>\n",
       "    </tr>\n",
       "  </tbody>\n",
       "</table>\n",
       "</div>"
      ],
      "text/plain": [
       "   MAX(contract_number)  MIN(contract_number)  null_count\n",
       "0                101028                100022           0"
      ]
     },
     "metadata": {},
     "output_type": "display_data"
    },
    {
     "name": "stdout",
     "output_type": "stream",
     "text": [
      "- - - - - - - - - - - - - - - - - - - - - - - - - - - - - - \n",
      "\n",
      "Проверка обозначений по полю id_number\n"
     ]
    },
    {
     "data": {
      "text/html": [
       "<div>\n",
       "<style scoped>\n",
       "    .dataframe tbody tr th:only-of-type {\n",
       "        vertical-align: middle;\n",
       "    }\n",
       "\n",
       "    .dataframe tbody tr th {\n",
       "        vertical-align: top;\n",
       "    }\n",
       "\n",
       "    .dataframe thead th {\n",
       "        text-align: right;\n",
       "    }\n",
       "</style>\n",
       "<table border=\"1\" class=\"dataframe\">\n",
       "  <thead>\n",
       "    <tr style=\"text-align: right;\">\n",
       "      <th></th>\n",
       "      <th>MAX(id_number)</th>\n",
       "      <th>MIN(id_number)</th>\n",
       "      <th>null_count</th>\n",
       "    </tr>\n",
       "  </thead>\n",
       "  <tbody>\n",
       "    <tr>\n",
       "      <th>0</th>\n",
       "      <td>100075</td>\n",
       "      <td>100002</td>\n",
       "      <td>0</td>\n",
       "    </tr>\n",
       "  </tbody>\n",
       "</table>\n",
       "</div>"
      ],
      "text/plain": [
       "   MAX(id_number)  MIN(id_number)  null_count\n",
       "0          100075          100002           0"
      ]
     },
     "metadata": {},
     "output_type": "display_data"
    },
    {
     "name": "stdout",
     "output_type": "stream",
     "text": [
      "- - - - - - - - - - - - - - - - - - - - - - - - - - - - - - \n",
      "\n",
      "Проверка обозначений по полю term_month\n"
     ]
    },
    {
     "data": {
      "text/html": [
       "<div>\n",
       "<style scoped>\n",
       "    .dataframe tbody tr th:only-of-type {\n",
       "        vertical-align: middle;\n",
       "    }\n",
       "\n",
       "    .dataframe tbody tr th {\n",
       "        vertical-align: top;\n",
       "    }\n",
       "\n",
       "    .dataframe thead th {\n",
       "        text-align: right;\n",
       "    }\n",
       "</style>\n",
       "<table border=\"1\" class=\"dataframe\">\n",
       "  <thead>\n",
       "    <tr style=\"text-align: right;\">\n",
       "      <th></th>\n",
       "      <th>MAX(term_month)</th>\n",
       "      <th>MIN(term_month)</th>\n",
       "      <th>null_count</th>\n",
       "    </tr>\n",
       "  </thead>\n",
       "  <tbody>\n",
       "    <tr>\n",
       "      <th>0</th>\n",
       "      <td>41</td>\n",
       "      <td>12</td>\n",
       "      <td>0</td>\n",
       "    </tr>\n",
       "  </tbody>\n",
       "</table>\n",
       "</div>"
      ],
      "text/plain": [
       "   MAX(term_month)  MIN(term_month)  null_count\n",
       "0               41               12           0"
      ]
     },
     "metadata": {},
     "output_type": "display_data"
    },
    {
     "name": "stdout",
     "output_type": "stream",
     "text": [
      "- - - - - - - - - - - - - - - - - - - - - - - - - - - - - - \n",
      "\n"
     ]
    }
   ],
   "source": [
    "data_type = 'int'\n",
    "value_check(table, data_type)"
   ]
  },
  {
   "cell_type": "code",
   "execution_count": 32,
   "metadata": {},
   "outputs": [
    {
     "name": "stdout",
     "output_type": "stream",
     "text": [
      "Отрицательные значения для поля amount не найдены, ошибок нет\n",
      "Отрицательные значения для поля annuity не найдены, ошибок нет\n",
      "Отрицательные значения для поля contract_number не найдены, ошибок нет\n",
      "Отрицательные значения для поля id_number не найдены, ошибок нет\n",
      "Отрицательные значения для поля term_month не найдены, ошибок нет\n"
     ]
    }
   ],
   "source": [
    "int_negative_value_update(table)"
   ]
  },
  {
   "cell_type": "markdown",
   "metadata": {},
   "source": [
    "Нарушения по числовым переменным также не обнаружены"
   ]
  },
  {
   "cell_type": "markdown",
   "metadata": {},
   "source": [
    "Проверим значениях в полях дат:"
   ]
  },
  {
   "cell_type": "code",
   "execution_count": 33,
   "metadata": {},
   "outputs": [
    {
     "name": "stdout",
     "output_type": "stream",
     "text": [
      "Проверка обозначений по полю contract_date\n"
     ]
    },
    {
     "data": {
      "text/html": [
       "<div>\n",
       "<style scoped>\n",
       "    .dataframe tbody tr th:only-of-type {\n",
       "        vertical-align: middle;\n",
       "    }\n",
       "\n",
       "    .dataframe tbody tr th {\n",
       "        vertical-align: top;\n",
       "    }\n",
       "\n",
       "    .dataframe thead th {\n",
       "        text-align: right;\n",
       "    }\n",
       "</style>\n",
       "<table border=\"1\" class=\"dataframe\">\n",
       "  <thead>\n",
       "    <tr style=\"text-align: right;\">\n",
       "      <th></th>\n",
       "      <th>MAX(contract_date)</th>\n",
       "      <th>MIN(contract_date)</th>\n",
       "      <th>null_count</th>\n",
       "    </tr>\n",
       "  </thead>\n",
       "  <tbody>\n",
       "    <tr>\n",
       "      <th>0</th>\n",
       "      <td>2018-12-30</td>\n",
       "      <td>2014-01-17</td>\n",
       "      <td>0</td>\n",
       "    </tr>\n",
       "  </tbody>\n",
       "</table>\n",
       "</div>"
      ],
      "text/plain": [
       "  MAX(contract_date) MIN(contract_date)  null_count\n",
       "0         2018-12-30         2014-01-17           0"
      ]
     },
     "metadata": {},
     "output_type": "display_data"
    },
    {
     "name": "stdout",
     "output_type": "stream",
     "text": [
      "- - - - - - - - - - - - - - - - - - - - - - - - - - - - - - \n",
      "\n"
     ]
    }
   ],
   "source": [
    "data_type = 'date'\n",
    "value_check(table, data_type)"
   ]
  },
  {
   "cell_type": "code",
   "execution_count": 34,
   "metadata": {},
   "outputs": [
    {
     "name": "stdout",
     "output_type": "stream",
     "text": [
      "Среди дат по полю contract_date некорректные значения не найдены\n",
      "- - - - - - - - - - - - - - - - - - - - - - - - - - - - - - \n"
     ]
    }
   ],
   "source": [
    "date_value_update(table)"
   ]
  },
  {
   "cell_type": "markdown",
   "metadata": {},
   "source": [
    "В таблице контрактов некорректных значений в формате даты нет"
   ]
  },
  {
   "cell_type": "markdown",
   "metadata": {},
   "source": [
    "### Пункт 3. Кодировка текстовых полей и создание словарей"
   ]
  },
  {
   "cell_type": "code",
   "execution_count": 35,
   "metadata": {},
   "outputs": [],
   "source": [
    "def encoding_and_creating_dictionary(table):\n",
    "    le = preprocessing.LabelEncoder()\n",
    "    # создаём таблицу для словаря\n",
    "    mycursor.execute(\"\"\"CREATE TABLE {0}_dict (column_name VARCHAR(100), category VARCHAR(100), encoding INT)\"\"\".format(table))\n",
    "    # кодируем все текстовые колонки\n",
    "    mycursor.execute(\"\"\"SELECT COLUMN_NAME FROM INFORMATION_SCHEMA.COLUMNS\n",
    "    WHERE DATA_TYPE = 'varchar' AND TABLE_SCHEMA = '{0}'\n",
    "    AND TABLE_NAME = '{1}'\"\"\".format(mydatabase, table))\n",
    "    data_type_col = pd.DataFrame(mycursor.fetchall())[0].tolist()\n",
    "\n",
    "    for i in range (0,len(data_type_col)):\n",
    "        mycursor.execute(\"\"\"SELECT id_number, {0} FROM {1}\"\"\".format(data_type_col[i], table))\n",
    "        data = pd.DataFrame(mycursor.fetchall())\n",
    "        data.columns = [x[0] for x in mycursor.description]\n",
    "        data = data.dropna(how = 'any').reset_index(drop = True)\n",
    "        data['encoded'] = le.fit_transform(data[data_type_col[i]])\n",
    "        mycursor.execute(\"\"\"ALTER TABLE {0} DROP {1}\"\"\".format(table, data_type_col[i]))\n",
    "        mycursor.execute(\"\"\"ALTER TABLE {0} ADD {1} INT\"\"\".format(table, data_type_col[i]))\n",
    "        for j in range (0, len (data)):\n",
    "            mycursor.execute(\"\"\"UPDATE {0} SET {1} = {2} \n",
    "            WHERE {0}.id_number={3}\"\"\".format(table, data_type_col[i], data['encoded'][j], data['id_number'][j]))\n",
    "            database.commit()\n",
    "        \n",
    "        # создаём для текущей текстовой колонки таблицу с данными для заполнения словаря\n",
    "        to_dict = data[[data_type_col[i],'encoded']].drop_duplicates().sort_values(by = ['encoded']).reset_index(drop = True)\n",
    "        to_dict.columns = ['category','encoding']\n",
    "        to_dict['column_name'] = data_type_col[i]\n",
    "        to_dict = to_dict[['column_name', 'category', 'encoding']]\n",
    "\n",
    "        # заполняем подготовленными данными по текущему текстовому столбцу словарь кодировки\n",
    "        sql = \"\"\"INSERT INTO {0}_dict VALUES (%s, %s, %s)\"\"\".format(table)\n",
    "        for k in range(0, to_dict.shape[0]):\n",
    "            val = (to_dict.iloc[k][0], to_dict.iloc[k][1], int(to_dict.iloc[k][2]))\n",
    "            mycursor.execute(sql, val)\n",
    "\n",
    "            database.commit()"
   ]
  },
  {
   "cell_type": "markdown",
   "metadata": {},
   "source": [
    "Перекодируем текстовые колонки в числа и создадим словари для каждой из таблиц:"
   ]
  },
  {
   "cell_type": "code",
   "execution_count": 36,
   "metadata": {},
   "outputs": [],
   "source": [
    "tables = ['applications', 'contracts']\n",
    "for i in tables:\n",
    "    encoding_and_creating_dictionary(i)"
   ]
  },
  {
   "cell_type": "markdown",
   "metadata": {},
   "source": [
    "Посмотрим на текущий вид таблиц:"
   ]
  },
  {
   "cell_type": "code",
   "execution_count": 37,
   "metadata": {},
   "outputs": [
    {
     "name": "stdout",
     "output_type": "stream",
     "text": [
      "_ _ _ _ _ _ _ _ _ _ _ _ _ _ _ _ _ _ _ _ _ _ _ _ _ _ _ _ _ _ _ _ _ _ _ _ _ _ _ _ _ _ _ _ _ _ _ _ _ _ _ _ _ _ _ _ _ _ _ _ _ _ _ \n",
      "\n",
      "Таблица  applications\n",
      "_ _ _ _ _ _ _ _ _ _ _ _ _ _ _ _ _ _ _ _ _ _ _ _ _ _ _ _ _ _ _ _ _ _ _ _ _ _ _ _ _ _ _ _ _ _ _ _ _ _ _ _ _ _ _ _ _ _ _ _ _ _ _ \n"
     ]
    },
    {
     "data": {
      "text/html": [
       "<div>\n",
       "<style scoped>\n",
       "    .dataframe tbody tr th:only-of-type {\n",
       "        vertical-align: middle;\n",
       "    }\n",
       "\n",
       "    .dataframe tbody tr th {\n",
       "        vertical-align: top;\n",
       "    }\n",
       "\n",
       "    .dataframe thead th {\n",
       "        text-align: right;\n",
       "    }\n",
       "</style>\n",
       "<table border=\"1\" class=\"dataframe\">\n",
       "  <thead>\n",
       "    <tr style=\"text-align: right;\">\n",
       "      <th></th>\n",
       "      <th>id_number</th>\n",
       "      <th>issue_date</th>\n",
       "      <th>children</th>\n",
       "      <th>family</th>\n",
       "      <th>income</th>\n",
       "      <th>age_of_car</th>\n",
       "      <th>application_date</th>\n",
       "      <th>age</th>\n",
       "      <th>education</th>\n",
       "      <th>employed_by</th>\n",
       "      <th>gender</th>\n",
       "      <th>house_ownership</th>\n",
       "      <th>housing</th>\n",
       "      <th>income_type</th>\n",
       "      <th>marital_status</th>\n",
       "      <th>position</th>\n",
       "    </tr>\n",
       "  </thead>\n",
       "  <tbody>\n",
       "    <tr>\n",
       "      <th>0</th>\n",
       "      <td>100003</td>\n",
       "      <td>2013-08-29</td>\n",
       "      <td>0.0</td>\n",
       "      <td>2.0</td>\n",
       "      <td>270000.0</td>\n",
       "      <td>NaN</td>\n",
       "      <td>2014-06-16</td>\n",
       "      <td>50</td>\n",
       "      <td>0.0</td>\n",
       "      <td>14</td>\n",
       "      <td>0</td>\n",
       "      <td>0.0</td>\n",
       "      <td>0.0</td>\n",
       "      <td>2.0</td>\n",
       "      <td>1.0</td>\n",
       "      <td>3.0</td>\n",
       "    </tr>\n",
       "    <tr>\n",
       "      <th>1</th>\n",
       "      <td>100004</td>\n",
       "      <td>2010-01-28</td>\n",
       "      <td>0.0</td>\n",
       "      <td>1.0</td>\n",
       "      <td>67500.0</td>\n",
       "      <td>26.0</td>\n",
       "      <td>2017-02-01</td>\n",
       "      <td>54</td>\n",
       "      <td>2.0</td>\n",
       "      <td>5</td>\n",
       "      <td>1</td>\n",
       "      <td>1.0</td>\n",
       "      <td>0.0</td>\n",
       "      <td>3.0</td>\n",
       "      <td>3.0</td>\n",
       "      <td>5.0</td>\n",
       "    </tr>\n",
       "    <tr>\n",
       "      <th>2</th>\n",
       "      <td>100006</td>\n",
       "      <td>2010-08-01</td>\n",
       "      <td>0.0</td>\n",
       "      <td>2.0</td>\n",
       "      <td>135000.0</td>\n",
       "      <td>NaN</td>\n",
       "      <td>2016-10-09</td>\n",
       "      <td>54</td>\n",
       "      <td>2.0</td>\n",
       "      <td>1</td>\n",
       "      <td>0</td>\n",
       "      <td>1.0</td>\n",
       "      <td>0.0</td>\n",
       "      <td>3.0</td>\n",
       "      <td>0.0</td>\n",
       "      <td>5.0</td>\n",
       "    </tr>\n",
       "    <tr>\n",
       "      <th>3</th>\n",
       "      <td>100007</td>\n",
       "      <td>2008-03-18</td>\n",
       "      <td>0.0</td>\n",
       "      <td>1.0</td>\n",
       "      <td>121500.0</td>\n",
       "      <td>NaN</td>\n",
       "      <td>2017-05-09</td>\n",
       "      <td>55</td>\n",
       "      <td>2.0</td>\n",
       "      <td>13</td>\n",
       "      <td>1</td>\n",
       "      <td>1.0</td>\n",
       "      <td>0.0</td>\n",
       "      <td>3.0</td>\n",
       "      <td>3.0</td>\n",
       "      <td>3.0</td>\n",
       "    </tr>\n",
       "    <tr>\n",
       "      <th>4</th>\n",
       "      <td>100008</td>\n",
       "      <td>2013-11-24</td>\n",
       "      <td>0.0</td>\n",
       "      <td>2.0</td>\n",
       "      <td>99000.0</td>\n",
       "      <td>NaN</td>\n",
       "      <td>2015-03-16</td>\n",
       "      <td>50</td>\n",
       "      <td>2.0</td>\n",
       "      <td>12</td>\n",
       "      <td>1</td>\n",
       "      <td>1.0</td>\n",
       "      <td>0.0</td>\n",
       "      <td>2.0</td>\n",
       "      <td>1.0</td>\n",
       "      <td>5.0</td>\n",
       "    </tr>\n",
       "  </tbody>\n",
       "</table>\n",
       "</div>"
      ],
      "text/plain": [
       "   id_number  issue_date  children  family    income  age_of_car  \\\n",
       "0     100003  2013-08-29       0.0     2.0  270000.0         NaN   \n",
       "1     100004  2010-01-28       0.0     1.0   67500.0        26.0   \n",
       "2     100006  2010-08-01       0.0     2.0  135000.0         NaN   \n",
       "3     100007  2008-03-18       0.0     1.0  121500.0         NaN   \n",
       "4     100008  2013-11-24       0.0     2.0   99000.0         NaN   \n",
       "\n",
       "  application_date  age  education  employed_by  gender  house_ownership  \\\n",
       "0       2014-06-16   50        0.0           14       0              0.0   \n",
       "1       2017-02-01   54        2.0            5       1              1.0   \n",
       "2       2016-10-09   54        2.0            1       0              1.0   \n",
       "3       2017-05-09   55        2.0           13       1              1.0   \n",
       "4       2015-03-16   50        2.0           12       1              1.0   \n",
       "\n",
       "   housing  income_type  marital_status  position  \n",
       "0      0.0          2.0             1.0       3.0  \n",
       "1      0.0          3.0             3.0       5.0  \n",
       "2      0.0          3.0             0.0       5.0  \n",
       "3      0.0          3.0             3.0       3.0  \n",
       "4      0.0          2.0             1.0       5.0  "
      ]
     },
     "metadata": {},
     "output_type": "display_data"
    },
    {
     "name": "stdout",
     "output_type": "stream",
     "text": [
      "_ _ _ _ _ _ _ _ _ _ _ _ _ _ _ _ _ _ _ _ _ _ _ _ _ _ _ _ _ _ _ _ _ _ _ _ _ _ _ _ _ _ _ _ _ _ _ _ _ _ _ _ _ _ _ _ _ _ _ _ _ _ _ \n",
      "\n",
      "Таблица  contracts\n",
      "_ _ _ _ _ _ _ _ _ _ _ _ _ _ _ _ _ _ _ _ _ _ _ _ _ _ _ _ _ _ _ _ _ _ _ _ _ _ _ _ _ _ _ _ _ _ _ _ _ _ _ _ _ _ _ _ _ _ _ _ _ _ _ \n"
     ]
    },
    {
     "data": {
      "text/html": [
       "<div>\n",
       "<style scoped>\n",
       "    .dataframe tbody tr th:only-of-type {\n",
       "        vertical-align: middle;\n",
       "    }\n",
       "\n",
       "    .dataframe tbody tr th {\n",
       "        vertical-align: top;\n",
       "    }\n",
       "\n",
       "    .dataframe thead th {\n",
       "        text-align: right;\n",
       "    }\n",
       "</style>\n",
       "<table border=\"1\" class=\"dataframe\">\n",
       "  <thead>\n",
       "    <tr style=\"text-align: right;\">\n",
       "      <th></th>\n",
       "      <th>id_number</th>\n",
       "      <th>contract_number</th>\n",
       "      <th>amount</th>\n",
       "      <th>term_month</th>\n",
       "      <th>annuity</th>\n",
       "      <th>contract_date</th>\n",
       "      <th>type</th>\n",
       "    </tr>\n",
       "  </thead>\n",
       "  <tbody>\n",
       "    <tr>\n",
       "      <th>0</th>\n",
       "      <td>100002</td>\n",
       "      <td>100875</td>\n",
       "      <td>406598</td>\n",
       "      <td>19</td>\n",
       "      <td>24701</td>\n",
       "      <td>2016-05-03</td>\n",
       "      <td>0</td>\n",
       "    </tr>\n",
       "    <tr>\n",
       "      <th>1</th>\n",
       "      <td>100003</td>\n",
       "      <td>100524</td>\n",
       "      <td>1293503</td>\n",
       "      <td>39</td>\n",
       "      <td>35699</td>\n",
       "      <td>2014-06-22</td>\n",
       "      <td>0</td>\n",
       "    </tr>\n",
       "    <tr>\n",
       "      <th>2</th>\n",
       "      <td>100004</td>\n",
       "      <td>100552</td>\n",
       "      <td>135000</td>\n",
       "      <td>23</td>\n",
       "      <td>6750</td>\n",
       "      <td>2017-08-01</td>\n",
       "      <td>1</td>\n",
       "    </tr>\n",
       "    <tr>\n",
       "      <th>3</th>\n",
       "      <td>100006</td>\n",
       "      <td>100493</td>\n",
       "      <td>312683</td>\n",
       "      <td>14</td>\n",
       "      <td>29687</td>\n",
       "      <td>2016-09-17</td>\n",
       "      <td>0</td>\n",
       "    </tr>\n",
       "    <tr>\n",
       "      <th>4</th>\n",
       "      <td>100007</td>\n",
       "      <td>100797</td>\n",
       "      <td>513000</td>\n",
       "      <td>26</td>\n",
       "      <td>21866</td>\n",
       "      <td>2017-06-09</td>\n",
       "      <td>0</td>\n",
       "    </tr>\n",
       "  </tbody>\n",
       "</table>\n",
       "</div>"
      ],
      "text/plain": [
       "   id_number  contract_number   amount  term_month  annuity contract_date  \\\n",
       "0     100002           100875   406598          19    24701    2016-05-03   \n",
       "1     100003           100524  1293503          39    35699    2014-06-22   \n",
       "2     100004           100552   135000          23     6750    2017-08-01   \n",
       "3     100006           100493   312683          14    29687    2016-09-17   \n",
       "4     100007           100797   513000          26    21866    2017-06-09   \n",
       "\n",
       "   type  \n",
       "0     0  \n",
       "1     0  \n",
       "2     1  \n",
       "3     0  \n",
       "4     0  "
      ]
     },
     "metadata": {},
     "output_type": "display_data"
    }
   ],
   "source": [
    "for i in tables:\n",
    "    mycursor.execute(\"SELECT * FROM {0}\".format(i))\n",
    "\n",
    "    data = pd.DataFrame(mycursor.fetchall())\n",
    "    data.columns = [i[0] for i in mycursor.description]\n",
    "    print(\"_ \"*63)\n",
    "    print()\n",
    "    print('Таблица ', i)\n",
    "    print(\"_ \"*63)\n",
    "    display(data.head())"
   ]
  },
  {
   "cell_type": "markdown",
   "metadata": {},
   "source": [
    "Рассмотрим пример записей из словарей для полей education и gender из заявок и для поля type из контрактов"
   ]
  },
  {
   "cell_type": "code",
   "execution_count": 38,
   "metadata": {
    "scrolled": true
   },
   "outputs": [
    {
     "name": "stdout",
     "output_type": "stream",
     "text": [
      "_ _ _ _ _ _ _ _ _ _ _ _ _ _ _ _ _ _ _ _ _ _ _ _ _ _ _ _ _ _ _ _ _ _ _ _ _ _ _ _ _ _ _ _ _ _ _ _ _ _ _ _ _ _ _ _ _ _ _ _ _ _ _ \n",
      "\n",
      "Словарь для поля  education  из таблицы  applications\n",
      "_ _ _ _ _ _ _ _ _ _ _ _ _ _ _ _ _ _ _ _ _ _ _ _ _ _ _ _ _ _ _ _ _ _ _ _ _ _ _ _ _ _ _ _ _ _ _ _ _ _ _ _ _ _ _ _ _ _ _ _ _ _ _ \n"
     ]
    },
    {
     "data": {
      "text/html": [
       "<div>\n",
       "<style scoped>\n",
       "    .dataframe tbody tr th:only-of-type {\n",
       "        vertical-align: middle;\n",
       "    }\n",
       "\n",
       "    .dataframe tbody tr th {\n",
       "        vertical-align: top;\n",
       "    }\n",
       "\n",
       "    .dataframe thead th {\n",
       "        text-align: right;\n",
       "    }\n",
       "</style>\n",
       "<table border=\"1\" class=\"dataframe\">\n",
       "  <thead>\n",
       "    <tr style=\"text-align: right;\">\n",
       "      <th></th>\n",
       "      <th>column_name</th>\n",
       "      <th>category</th>\n",
       "      <th>encoding</th>\n",
       "    </tr>\n",
       "  </thead>\n",
       "  <tbody>\n",
       "    <tr>\n",
       "      <th>0</th>\n",
       "      <td>education</td>\n",
       "      <td>Higher education</td>\n",
       "      <td>0</td>\n",
       "    </tr>\n",
       "    <tr>\n",
       "      <th>1</th>\n",
       "      <td>education</td>\n",
       "      <td>Incomplete higher</td>\n",
       "      <td>1</td>\n",
       "    </tr>\n",
       "    <tr>\n",
       "      <th>2</th>\n",
       "      <td>education</td>\n",
       "      <td>Secondary / secondary special</td>\n",
       "      <td>2</td>\n",
       "    </tr>\n",
       "  </tbody>\n",
       "</table>\n",
       "</div>"
      ],
      "text/plain": [
       "  column_name                       category  encoding\n",
       "0   education               Higher education         0\n",
       "1   education              Incomplete higher         1\n",
       "2   education  Secondary / secondary special         2"
      ]
     },
     "metadata": {},
     "output_type": "display_data"
    },
    {
     "name": "stdout",
     "output_type": "stream",
     "text": [
      "_ _ _ _ _ _ _ _ _ _ _ _ _ _ _ _ _ _ _ _ _ _ _ _ _ _ _ _ _ _ _ _ _ _ _ _ _ _ _ _ _ _ _ _ _ _ _ _ _ _ _ _ _ _ _ _ _ _ _ _ _ _ _ \n",
      "\n",
      "Словарь для поля  gender  из таблицы  applications\n",
      "_ _ _ _ _ _ _ _ _ _ _ _ _ _ _ _ _ _ _ _ _ _ _ _ _ _ _ _ _ _ _ _ _ _ _ _ _ _ _ _ _ _ _ _ _ _ _ _ _ _ _ _ _ _ _ _ _ _ _ _ _ _ _ \n"
     ]
    },
    {
     "data": {
      "text/html": [
       "<div>\n",
       "<style scoped>\n",
       "    .dataframe tbody tr th:only-of-type {\n",
       "        vertical-align: middle;\n",
       "    }\n",
       "\n",
       "    .dataframe tbody tr th {\n",
       "        vertical-align: top;\n",
       "    }\n",
       "\n",
       "    .dataframe thead th {\n",
       "        text-align: right;\n",
       "    }\n",
       "</style>\n",
       "<table border=\"1\" class=\"dataframe\">\n",
       "  <thead>\n",
       "    <tr style=\"text-align: right;\">\n",
       "      <th></th>\n",
       "      <th>column_name</th>\n",
       "      <th>category</th>\n",
       "      <th>encoding</th>\n",
       "    </tr>\n",
       "  </thead>\n",
       "  <tbody>\n",
       "    <tr>\n",
       "      <th>0</th>\n",
       "      <td>gender</td>\n",
       "      <td>Female</td>\n",
       "      <td>0</td>\n",
       "    </tr>\n",
       "    <tr>\n",
       "      <th>1</th>\n",
       "      <td>gender</td>\n",
       "      <td>Male</td>\n",
       "      <td>1</td>\n",
       "    </tr>\n",
       "  </tbody>\n",
       "</table>\n",
       "</div>"
      ],
      "text/plain": [
       "  column_name category  encoding\n",
       "0      gender   Female         0\n",
       "1      gender     Male         1"
      ]
     },
     "metadata": {},
     "output_type": "display_data"
    },
    {
     "name": "stdout",
     "output_type": "stream",
     "text": [
      "_ _ _ _ _ _ _ _ _ _ _ _ _ _ _ _ _ _ _ _ _ _ _ _ _ _ _ _ _ _ _ _ _ _ _ _ _ _ _ _ _ _ _ _ _ _ _ _ _ _ _ _ _ _ _ _ _ _ _ _ _ _ _ \n",
      "\n",
      "Словарь для поля  type  из таблицы  contracts\n",
      "_ _ _ _ _ _ _ _ _ _ _ _ _ _ _ _ _ _ _ _ _ _ _ _ _ _ _ _ _ _ _ _ _ _ _ _ _ _ _ _ _ _ _ _ _ _ _ _ _ _ _ _ _ _ _ _ _ _ _ _ _ _ _ \n"
     ]
    },
    {
     "data": {
      "text/html": [
       "<div>\n",
       "<style scoped>\n",
       "    .dataframe tbody tr th:only-of-type {\n",
       "        vertical-align: middle;\n",
       "    }\n",
       "\n",
       "    .dataframe tbody tr th {\n",
       "        vertical-align: top;\n",
       "    }\n",
       "\n",
       "    .dataframe thead th {\n",
       "        text-align: right;\n",
       "    }\n",
       "</style>\n",
       "<table border=\"1\" class=\"dataframe\">\n",
       "  <thead>\n",
       "    <tr style=\"text-align: right;\">\n",
       "      <th></th>\n",
       "      <th>column_name</th>\n",
       "      <th>category</th>\n",
       "      <th>encoding</th>\n",
       "    </tr>\n",
       "  </thead>\n",
       "  <tbody>\n",
       "    <tr>\n",
       "      <th>0</th>\n",
       "      <td>type</td>\n",
       "      <td>Cash loans</td>\n",
       "      <td>0</td>\n",
       "    </tr>\n",
       "    <tr>\n",
       "      <th>1</th>\n",
       "      <td>type</td>\n",
       "      <td>Revolving loans</td>\n",
       "      <td>1</td>\n",
       "    </tr>\n",
       "  </tbody>\n",
       "</table>\n",
       "</div>"
      ],
      "text/plain": [
       "  column_name         category  encoding\n",
       "0        type       Cash loans         0\n",
       "1        type  Revolving loans         1"
      ]
     },
     "metadata": {},
     "output_type": "display_data"
    }
   ],
   "source": [
    "tables = ['applications', 'contracts']\n",
    "fields = [['education','gender'],['type']]\n",
    "for i in range(0, len(tables)):\n",
    "    if tables[i] == 'applications':\n",
    "        field_range = fields[0]\n",
    "    if tables[i] == 'contracts':\n",
    "        field_range = fields[1]\n",
    "    for j in range(0, len(field_range)):\n",
    "        mycursor.execute(\"SELECT * FROM {0}_dict WHERE column_name = '{1}'\".format(tables[i], field_range[j]))          \n",
    "        data = pd.DataFrame(mycursor.fetchall())\n",
    "        data.columns = [x[0] for x in mycursor.description]\n",
    "        print(\"_ \"*63)\n",
    "        print()\n",
    "        print('Словарь для поля ', field_range[j],  \" из таблицы \", tables[i])\n",
    "        print(\"_ \"*63)\n",
    "        display(data)"
   ]
  },
  {
   "cell_type": "code",
   "execution_count": 39,
   "metadata": {},
   "outputs": [],
   "source": [
    "database.close()"
   ]
  },
  {
   "cell_type": "code",
   "execution_count": null,
   "metadata": {},
   "outputs": [],
   "source": [
    "    "
   ]
  }
 ],
 "metadata": {
  "kernelspec": {
   "display_name": "Python 3",
   "language": "python",
   "name": "python3"
  },
  "language_info": {
   "codemirror_mode": {
    "name": "ipython",
    "version": 3
   },
   "file_extension": ".py",
   "mimetype": "text/x-python",
   "name": "python",
   "nbconvert_exporter": "python",
   "pygments_lexer": "ipython3",
   "version": "3.7.0"
  }
 },
 "nbformat": 4,
 "nbformat_minor": 2
}
